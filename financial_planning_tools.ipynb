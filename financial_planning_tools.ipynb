{
 "cells": [
  {
   "cell_type": "markdown",
   "metadata": {},
   "source": [
    "# Financial Planning with APIs and Simulations\n",
    "\n",
    "In this Challenge, you’ll create two financial analysis tools by using a single Jupyter notebook:\n",
    "\n",
    "Part 1: A financial planner for emergencies. The members will be able to use this tool to visualize their current savings. The members can then determine if they have enough reserves for an emergency fund.\n",
    "\n",
    "Part 2: A financial planner for retirement. This tool will forecast the performance of their retirement portfolio in 30 years. To do this, the tool will make an Alpaca API call via the Alpaca SDK to get historical price data for use in Monte Carlo simulations.\n",
    "\n",
    "You’ll use the information from the Monte Carlo simulation to answer questions about the portfolio in your Jupyter notebook.\n",
    "\n"
   ]
  },
  {
   "cell_type": "code",
   "execution_count": 1,
   "metadata": {},
   "outputs": [],
   "source": [
    "# Import the required libraries and dependencies\n",
    "import os\n",
    "import requests\n",
    "import json\n",
    "import pandas as pd\n",
    "from dotenv import load_dotenv\n",
    "import alpaca_trade_api as tradeapi\n",
    "from MCForecastTools import MCSimulation\n",
    "\n",
    "%matplotlib inline"
   ]
  },
  {
   "cell_type": "code",
   "execution_count": 2,
   "metadata": {},
   "outputs": [
    {
     "data": {
      "text/plain": [
       "True"
      ]
     },
     "execution_count": 2,
     "metadata": {},
     "output_type": "execute_result"
    }
   ],
   "source": [
    "# Load the environment variables from the .env file\n",
    "#by calling the load_dotenv function\n",
    "load_dotenv()"
   ]
  },
  {
   "cell_type": "markdown",
   "metadata": {},
   "source": [
    "## Part 1: Create a Financial Planner for Emergencies"
   ]
  },
  {
   "cell_type": "markdown",
   "metadata": {},
   "source": [
    "### Evaluate the Cryptocurrency Wallet by Using the Requests Library\n",
    "\n",
    "In this section, you’ll determine the current value of a member’s cryptocurrency wallet. You’ll collect the current prices for the Bitcoin and Ethereum cryptocurrencies by using the Python Requests library. For the prototype, you’ll assume that the member holds the 1.2 Bitcoins (BTC) and 5.3 Ethereum coins (ETH). To do all this, complete the following steps:\n",
    "\n",
    "1. Create a variable named `monthly_income`, and set its value to `12000`.\n",
    "\n",
    "2. Use the Requests library to get the current price (in US dollars) of Bitcoin (BTC) and Ethereum (ETH) by using the API endpoints that the starter code supplies.\n",
    "\n",
    "3. Navigate the JSON response object to access the current price of each coin, and store each in a variable.\n",
    "\n",
    "    > **Hint** Note the specific identifier for each cryptocurrency in the API JSON response. The Bitcoin identifier is `1`, and the Ethereum identifier is `1027`.\n",
    "\n",
    "4. Calculate the value, in US dollars, of the current amount of each cryptocurrency and of the entire cryptocurrency wallet.\n",
    "\n"
   ]
  },
  {
   "cell_type": "code",
   "execution_count": 3,
   "metadata": {},
   "outputs": [],
   "source": [
    "# The current number of coins for each cryptocurrency asset held in the portfolio.\n",
    "btc_coins = 1.2\n",
    "eth_coins = 5.3"
   ]
  },
  {
   "cell_type": "markdown",
   "metadata": {},
   "source": [
    "#### Step 1: Create a variable named `monthly_income`, and set its value to `12000`."
   ]
  },
  {
   "cell_type": "code",
   "execution_count": 4,
   "metadata": {},
   "outputs": [],
   "source": [
    "# The monthly amount for the member's household income\n",
    "# YOUR CODE HERE\n",
    "monthly_income = 12000\n"
   ]
  },
  {
   "cell_type": "markdown",
   "metadata": {},
   "source": [
    "#### Review the endpoint URLs for the API calls to Free Crypto API in order to get the current pricing information for both BTC and ETH."
   ]
  },
  {
   "cell_type": "code",
   "execution_count": 5,
   "metadata": {},
   "outputs": [],
   "source": [
    "# The Free Crypto API Call endpoint URLs for the held cryptocurrency assets\n",
    "btc_url = \"https://api.alternative.me/v2/ticker/Bitcoin/?convert=USD\"\n",
    "eth_url = \"https://api.alternative.me/v2/ticker/Ethereum/?convert=USD\""
   ]
  },
  {
   "cell_type": "markdown",
   "metadata": {},
   "source": [
    "#### Step 2. Use the Requests library to get the current price (in US dollars) of Bitcoin (BTC) and Ethereum (ETH) by using the API endpoints that the starter code supplied."
   ]
  },
  {
   "cell_type": "code",
   "execution_count": 6,
   "metadata": {},
   "outputs": [
    {
     "name": "stdout",
     "output_type": "stream",
     "text": [
      "{\n",
      "    \"data\": {\n",
      "        \"1\": {\n",
      "            \"circulating_supply\": 18930456,\n",
      "            \"id\": 1,\n",
      "            \"last_updated\": 1642289228,\n",
      "            \"max_supply\": 21000000,\n",
      "            \"name\": \"Bitcoin\",\n",
      "            \"quotes\": {\n",
      "                \"USD\": {\n",
      "                    \"market_cap\": 821139332569,\n",
      "                    \"percent_change_1h\": 0.0710410620270277,\n",
      "                    \"percent_change_24h\": 0.546427248399088,\n",
      "                    \"percent_change_7d\": 4.45353957264849,\n",
      "                    \"percentage_change_1h\": 0.0710410620270277,\n",
      "                    \"percentage_change_24h\": 0.546427248399088,\n",
      "                    \"percentage_change_7d\": 4.45353957264849,\n",
      "                    \"price\": 43377.0,\n",
      "                    \"volume_24h\": 14702558005\n",
      "                }\n",
      "            },\n",
      "            \"rank\": 1,\n",
      "            \"symbol\": \"BTC\",\n",
      "            \"total_supply\": 18930456,\n",
      "            \"website_slug\": \"bitcoin\"\n",
      "        }\n",
      "    },\n",
      "    \"metadata\": {\n",
      "        \"error\": null,\n",
      "        \"num_cryptocurrencies\": 3105,\n",
      "        \"timestamp\": 1642289228\n",
      "    }\n",
      "}\n"
     ]
    }
   ],
   "source": [
    "# Using the Python requests library, make an API call to access the current price of BTC\n",
    "btc_response = requests.get(btc_url).json()\n",
    "\n",
    "# Use the json.dumps function to review the response data from the API call\n",
    "# Use the indent and sort_keys parameters to make the response object readable\n",
    "# YOUR CODE HERE\n",
    "print(json.dumps(btc_response, indent=4, sort_keys=True))\n"
   ]
  },
  {
   "cell_type": "code",
   "execution_count": 7,
   "metadata": {},
   "outputs": [
    {
     "name": "stdout",
     "output_type": "stream",
     "text": [
      "{\n",
      "    \"data\": {\n",
      "        \"1027\": {\n",
      "            \"circulating_supply\": 119175839,\n",
      "            \"id\": 1027,\n",
      "            \"last_updated\": 1642289399,\n",
      "            \"max_supply\": 0,\n",
      "            \"name\": \"Ethereum\",\n",
      "            \"quotes\": {\n",
      "                \"USD\": {\n",
      "                    \"market_cap\": 398643751410,\n",
      "                    \"percent_change_1h\": 0.396271403844944,\n",
      "                    \"percent_change_24h\": 1.17306178444719,\n",
      "                    \"percent_change_7d\": 4.47281101603531,\n",
      "                    \"percentage_change_1h\": 0.396271403844944,\n",
      "                    \"percentage_change_24h\": 1.17306178444719,\n",
      "                    \"percentage_change_7d\": 4.47281101603531,\n",
      "                    \"price\": 3345.0,\n",
      "                    \"volume_24h\": 8785301847\n",
      "                }\n",
      "            },\n",
      "            \"rank\": 2,\n",
      "            \"symbol\": \"ETH\",\n",
      "            \"total_supply\": 119175839,\n",
      "            \"website_slug\": \"ethereum\"\n",
      "        }\n",
      "    },\n",
      "    \"metadata\": {\n",
      "        \"error\": null,\n",
      "        \"num_cryptocurrencies\": 3105,\n",
      "        \"timestamp\": 1642289399\n",
      "    }\n",
      "}\n"
     ]
    }
   ],
   "source": [
    "# Using the Python requests library, make an API call to access the current price ETH\n",
    "eth_response = requests.get(eth_url).json()\n",
    "\n",
    "# Use the json.dumps function to review the response data from the API call\n",
    "# Use the indent and sort_keys parameters to make the response object readable\n",
    "# YOUR CODE HERE\n",
    "print(json.dumps(eth_response, indent=4, sort_keys=True))\n"
   ]
  },
  {
   "cell_type": "markdown",
   "metadata": {},
   "source": [
    "#### Step 3: Navigate the JSON response object to access the current price of each coin, and store each in a variable."
   ]
  },
  {
   "cell_type": "code",
   "execution_count": 8,
   "metadata": {},
   "outputs": [
    {
     "data": {
      "text/plain": [
       "43377.0"
      ]
     },
     "execution_count": 8,
     "metadata": {},
     "output_type": "execute_result"
    }
   ],
   "source": [
    "# Navigate the BTC response object to access the current price of BTC\n",
    "btc_price = btc_response['data']['1']['quotes']['USD']['price']\n",
    "\n",
    "# Print the current price of BTC\n",
    "# YOUR CODE HERE\n",
    "btc_price"
   ]
  },
  {
   "cell_type": "code",
   "execution_count": 9,
   "metadata": {},
   "outputs": [
    {
     "data": {
      "text/plain": [
       "3345.0"
      ]
     },
     "execution_count": 9,
     "metadata": {},
     "output_type": "execute_result"
    }
   ],
   "source": [
    "# Navigate the ETH response object to access the current price of ETH\n",
    "eth_price = eth_response['data']['1027']['quotes']['USD']['price']\n",
    "\n",
    "# Print the current price of ETH\n",
    "# YOUR CODE HERE\n",
    "eth_price"
   ]
  },
  {
   "cell_type": "markdown",
   "metadata": {},
   "source": [
    "### Step 4: Calculate the value, in US dollars, of the current amount of each cryptocurrency and of the entire cryptocurrency wallet."
   ]
  },
  {
   "cell_type": "code",
   "execution_count": 10,
   "metadata": {},
   "outputs": [
    {
     "data": {
      "text/plain": [
       "52052.4"
      ]
     },
     "execution_count": 10,
     "metadata": {},
     "output_type": "execute_result"
    }
   ],
   "source": [
    "# Compute the current value of the BTC holding \n",
    "btc_value = btc_price * btc_coins\n",
    "\n",
    "# Print current value of your holding in BTC\n",
    "# YOUR CODE HERE\n",
    "btc_value"
   ]
  },
  {
   "cell_type": "code",
   "execution_count": 11,
   "metadata": {},
   "outputs": [
    {
     "data": {
      "text/plain": [
       "17728.5"
      ]
     },
     "execution_count": 11,
     "metadata": {},
     "output_type": "execute_result"
    }
   ],
   "source": [
    "# Compute the current value of the ETH holding \n",
    "eth_value = eth_price * eth_coins\n",
    "\n",
    "# Print current value of your holding in ETH\n",
    "# YOUR CODE HERE\n",
    "eth_value"
   ]
  },
  {
   "cell_type": "code",
   "execution_count": 12,
   "metadata": {},
   "outputs": [
    {
     "data": {
      "text/plain": [
       "69780.9"
      ]
     },
     "execution_count": 12,
     "metadata": {},
     "output_type": "execute_result"
    }
   ],
   "source": [
    "# Compute the total value of the cryptocurrency wallet\n",
    "# Add the value of the BTC holding to the value of the ETH holding\n",
    "total_crypto_wallet = btc_value + eth_value\n",
    "\n",
    "# Print current cryptocurrency wallet balance\n",
    "# YOUR CODE HERE\n",
    "total_crypto_wallet"
   ]
  },
  {
   "cell_type": "markdown",
   "metadata": {},
   "source": [
    "### Evaluate the Stock and Bond Holdings by Using the Alpaca SDK\n",
    "\n",
    "In this section, you’ll determine the current value of a member’s stock and bond holdings. You’ll make an API call to Alpaca via the Alpaca SDK to get the current closing prices of the SPDR S&P 500 ETF Trust (ticker: SPY) and of the iShares Core US Aggregate Bond ETF (ticker: AGG). For the prototype, assume that the member holds 110 shares of SPY, which represents the stock portion of their portfolio, and 200 shares of AGG, which represents the bond portion. To do all this, complete the following steps:\n",
    "\n",
    "1. In the `Starter_Code` folder, create an environment file (`.env`) to store the values of your Alpaca API key and Alpaca secret key.\n",
    "\n",
    "2. Set the variables for the Alpaca API and secret keys. Using the Alpaca SDK, create the Alpaca `tradeapi.REST` object. In this object, include the parameters for the Alpaca API key, the secret key, and the version number.\n",
    "\n",
    "3. Set the following parameters for the Alpaca API call:\n",
    "\n",
    "    - `tickers`: Use the tickers for the member’s stock and bond holdings.\n",
    "\n",
    "    - `timeframe`: Use a time frame of one day.\n",
    "\n",
    "    - `start_date` and `end_date`: Use the same date for these parameters, and format them with the date of the previous weekday (or `2020-08-07`). This is because you want the one closing price for the most-recent trading day.\n",
    "\n",
    "4. Get the current closing prices for `SPY` and `AGG` by using the Alpaca `get_barset` function. Format the response as a Pandas DataFrame by including the `df` property at the end of the `get_barset` function.\n",
    "\n",
    "5. Navigating the Alpaca response DataFrame, select the `SPY` and `AGG` closing prices, and store them as variables.\n",
    "\n",
    "6. Calculate the value, in US dollars, of the current amount of shares in each of the stock and bond portions of the portfolio, and print the results.\n"
   ]
  },
  {
   "cell_type": "markdown",
   "metadata": {},
   "source": [
    "#### Review the total number of shares held in both (SPY) and (AGG)."
   ]
  },
  {
   "cell_type": "code",
   "execution_count": 13,
   "metadata": {},
   "outputs": [],
   "source": [
    "# Current amount of shares held in both the stock (SPY) and bond (AGG) portion of the portfolio.\n",
    "spy_shares = 110\n",
    "agg_shares = 200\n"
   ]
  },
  {
   "cell_type": "markdown",
   "metadata": {},
   "source": [
    "#### Step 1: In the `Mocule_5_Challenge` folder, create an environment file (`.env`) to store the values of your Alpaca API key and Alpaca secret key."
   ]
  },
  {
   "cell_type": "markdown",
   "metadata": {},
   "source": [
    "#### Step 2: Set the variables for the Alpaca API and secret keys. Using the Alpaca SDK, create the Alpaca `tradeapi.REST` object. In this object, include the parameters for the Alpaca API key, the secret key, and the version number."
   ]
  },
  {
   "cell_type": "code",
   "execution_count": 14,
   "metadata": {},
   "outputs": [],
   "source": [
    "# Set the variables for the Alpaca API and secret keys\n",
    "alpaca_api_key = os.getenv(\"ALPACA_API_KEY\")\n",
    "alpaca_secret_key = os.getenv(\"ALPACA_SECRET_KEY\")\n",
    "\n",
    "# Create the Alpaca tradeapi.REST object\n",
    "# YOUR CODE HERE\n",
    "alpaca = tradeapi.REST(\n",
    "    alpaca_api_key,\n",
    "    alpaca_secret_key,\n",
    "    api_version=\"v2\")\n"
   ]
  },
  {
   "cell_type": "markdown",
   "metadata": {},
   "source": [
    "#### Step 3: Set the following parameters for the Alpaca API call:\n",
    "\n",
    "- `tickers`: Use the tickers for the member’s stock and bond holdings.\n",
    "\n",
    "- `timeframe`: Use a time frame of one day.\n",
    "\n",
    "- `start_date` and `end_date`: Use the same date for these parameters, and format them with the date of the previous weekday (or `2020-08-07`). This is because you want the one closing price for the most-recent trading day.\n"
   ]
  },
  {
   "cell_type": "code",
   "execution_count": 15,
   "metadata": {},
   "outputs": [],
   "source": [
    "# Set the tickers for both the bond and stock portion of the portfolio\n",
    "tickers = [\"SPY\",\"AGG\"]\n",
    "\n",
    "# Set timeframe to 1D \n",
    "timeframe = \"1D\"\n",
    "\n",
    "# Format current date as ISO format\n",
    "# Set both the start and end date at the date of your prior weekday \n",
    "# This will give you the closing price of the previous trading day\n",
    "# Alternatively you can use a start and end date of 2020-08-07\n",
    "start_date = pd.Timestamp(\"2020-08-07\", tz=\"America/New_York\").isoformat()\n",
    "end_date = pd.Timestamp(\"2020-08-07\", tz=\"America/New_York\").isoformat()\n"
   ]
  },
  {
   "cell_type": "markdown",
   "metadata": {},
   "source": [
    "#### Step 4: Get the current closing prices for `SPY` and `AGG` by using the Alpaca `get_barset` function. Format the response as a Pandas DataFrame by including the `df` property at the end of the `get_barset` function."
   ]
  },
  {
   "cell_type": "code",
   "execution_count": 16,
   "metadata": {},
   "outputs": [
    {
     "data": {
      "text/html": [
       "<div>\n",
       "<style scoped>\n",
       "    .dataframe tbody tr th:only-of-type {\n",
       "        vertical-align: middle;\n",
       "    }\n",
       "\n",
       "    .dataframe tbody tr th {\n",
       "        vertical-align: top;\n",
       "    }\n",
       "\n",
       "    .dataframe thead tr th {\n",
       "        text-align: left;\n",
       "    }\n",
       "\n",
       "    .dataframe thead tr:last-of-type th {\n",
       "        text-align: right;\n",
       "    }\n",
       "</style>\n",
       "<table border=\"1\" class=\"dataframe\">\n",
       "  <thead>\n",
       "    <tr>\n",
       "      <th></th>\n",
       "      <th colspan=\"5\" halign=\"left\">AGG</th>\n",
       "      <th colspan=\"5\" halign=\"left\">SPY</th>\n",
       "    </tr>\n",
       "    <tr>\n",
       "      <th></th>\n",
       "      <th>open</th>\n",
       "      <th>high</th>\n",
       "      <th>low</th>\n",
       "      <th>close</th>\n",
       "      <th>volume</th>\n",
       "      <th>open</th>\n",
       "      <th>high</th>\n",
       "      <th>low</th>\n",
       "      <th>close</th>\n",
       "      <th>volume</th>\n",
       "    </tr>\n",
       "    <tr>\n",
       "      <th>time</th>\n",
       "      <th></th>\n",
       "      <th></th>\n",
       "      <th></th>\n",
       "      <th></th>\n",
       "      <th></th>\n",
       "      <th></th>\n",
       "      <th></th>\n",
       "      <th></th>\n",
       "      <th></th>\n",
       "      <th></th>\n",
       "    </tr>\n",
       "  </thead>\n",
       "  <tbody>\n",
       "    <tr>\n",
       "      <th>2020-08-07 00:00:00-04:00</th>\n",
       "      <td>119.66</td>\n",
       "      <td>119.73</td>\n",
       "      <td>119.395</td>\n",
       "      <td>119.445</td>\n",
       "      <td>8830420</td>\n",
       "      <td>333.28</td>\n",
       "      <td>334.88</td>\n",
       "      <td>332.3</td>\n",
       "      <td>334.55</td>\n",
       "      <td>98710236</td>\n",
       "    </tr>\n",
       "  </tbody>\n",
       "</table>\n",
       "</div>"
      ],
      "text/plain": [
       "                              AGG                                        SPY  \\\n",
       "                             open    high      low    close   volume    open   \n",
       "time                                                                           \n",
       "2020-08-07 00:00:00-04:00  119.66  119.73  119.395  119.445  8830420  333.28   \n",
       "\n",
       "                                                            \n",
       "                             high    low   close    volume  \n",
       "time                                                        \n",
       "2020-08-07 00:00:00-04:00  334.88  332.3  334.55  98710236  "
      ]
     },
     "execution_count": 16,
     "metadata": {},
     "output_type": "execute_result"
    }
   ],
   "source": [
    "# Use the Alpaca get_barset function to get current closing prices the portfolio\n",
    "# Be sure to set the `df` property after the function to format the response object as a DataFrame\n",
    "# YOUR CODE HERE\n",
    "closing_prices = alpaca.get_barset(\n",
    "    tickers,\n",
    "    timeframe,\n",
    "    start=start_date,\n",
    "    end=end_date\n",
    "    ).df\n",
    "\n",
    "\n",
    "\n",
    "# Review the first 5 rows of the Alpaca DataFrame\n",
    "# YOUR CODE HERE\n",
    "closing_prices.head()"
   ]
  },
  {
   "cell_type": "markdown",
   "metadata": {},
   "source": [
    "#### Step 5: Navigating the Alpaca response DataFrame, select the `SPY` and `AGG` closing prices, and store them as variables."
   ]
  },
  {
   "cell_type": "code",
   "execution_count": 17,
   "metadata": {},
   "outputs": [
    {
     "data": {
      "text/plain": [
       "119.445"
      ]
     },
     "execution_count": 17,
     "metadata": {},
     "output_type": "execute_result"
    }
   ],
   "source": [
    "# Access the closing price for AGG from the Alpaca DataFrame\n",
    "# Converting the value to a floating point number\n",
    "agg_close_price = float(closing_prices[\"AGG\"][\"close\"])\n",
    "\n",
    "# Print the AGG closing price\n",
    "# YOUR CODE HERE\n",
    "agg_close_price"
   ]
  },
  {
   "cell_type": "code",
   "execution_count": 18,
   "metadata": {},
   "outputs": [
    {
     "data": {
      "text/plain": [
       "334.55"
      ]
     },
     "execution_count": 18,
     "metadata": {},
     "output_type": "execute_result"
    }
   ],
   "source": [
    "# Access the closing price for SPY from the Alpaca DataFrame\n",
    "# Converting the value to a floating point number\n",
    "spy_close_price = float(closing_prices[\"SPY\"][\"close\"])\n",
    "\n",
    "# Print the SPY closing price\n",
    "# YOUR CODE HERE\n",
    "spy_close_price"
   ]
  },
  {
   "cell_type": "markdown",
   "metadata": {},
   "source": [
    "#### Step 6: Calculate the value, in US dollars, of the current amount of shares in each of the stock and bond portions of the portfolio, and print the results."
   ]
  },
  {
   "cell_type": "code",
   "execution_count": 19,
   "metadata": {},
   "outputs": [
    {
     "data": {
      "text/plain": [
       "23889.0"
      ]
     },
     "execution_count": 19,
     "metadata": {},
     "output_type": "execute_result"
    }
   ],
   "source": [
    "# Calculate the current value of the bond portion of the portfolio\n",
    "agg_value = agg_shares * agg_close_price\n",
    "\n",
    "# Print the current value of the bond portfolio\n",
    "# YOUR CODE HERE\n",
    "agg_value"
   ]
  },
  {
   "cell_type": "code",
   "execution_count": 20,
   "metadata": {},
   "outputs": [
    {
     "data": {
      "text/plain": [
       "36800.5"
      ]
     },
     "execution_count": 20,
     "metadata": {},
     "output_type": "execute_result"
    }
   ],
   "source": [
    "# Calculate the current value of the stock portion of the portfolio\n",
    "spy_value = spy_shares * spy_close_price\n",
    "\n",
    "# Print the current value of the stock portfolio\n",
    "# YOUR CODE HERE\n",
    "spy_value"
   ]
  },
  {
   "cell_type": "code",
   "execution_count": 21,
   "metadata": {},
   "outputs": [
    {
     "data": {
      "text/plain": [
       "60689.5"
      ]
     },
     "execution_count": 21,
     "metadata": {},
     "output_type": "execute_result"
    }
   ],
   "source": [
    "# Calculate the total value of the stock and bond portion of the portfolio\n",
    "total_stocks_bonds = spy_value + agg_value\n",
    "\n",
    "# Print the current balance of the stock and bond portion of the portfolio\n",
    "# YOUR CODE HERE\n",
    "total_stocks_bonds"
   ]
  },
  {
   "cell_type": "code",
   "execution_count": 22,
   "metadata": {},
   "outputs": [
    {
     "data": {
      "text/plain": [
       "130470.4"
      ]
     },
     "execution_count": 22,
     "metadata": {},
     "output_type": "execute_result"
    }
   ],
   "source": [
    "# Calculate the total value of the member's entire savings portfolio\n",
    "# Add the value of the cryptocurrency walled to the value of the total stocks and bonds\n",
    "total_portfolio = total_crypto_wallet + total_stocks_bonds\n",
    "\n",
    "# Print current cryptocurrency wallet balance\n",
    "# YOUR CODE HERE\n",
    "total_portfolio"
   ]
  },
  {
   "cell_type": "markdown",
   "metadata": {},
   "source": [
    "### Evaluate the Emergency Fund\n",
    "\n",
    "In this section, you’ll use the valuations for the cryptocurrency wallet and for the stock and bond portions of the portfolio to determine if the credit union member has enough savings to build an emergency fund into their financial plan. To do this, complete the following steps:\n",
    "\n",
    "1. Create a Python list named `savings_data` that has two elements. The first element contains the total value of the cryptocurrency wallet. The second element contains the total value of the stock and bond portions of the portfolio.\n",
    "\n",
    "2. Use the `savings_data` list to create a Pandas DataFrame named `savings_df`, and then display this DataFrame. The function to create the DataFrame should take the following three parameters:\n",
    "\n",
    "    - `savings_data`: Use the list that you just created.\n",
    "\n",
    "    - `columns`: Set this parameter equal to a Python list with a single value called `amount`.\n",
    "\n",
    "    - `index`: Set this parameter equal to a Python list with the values of `crypto` and `stock/bond`.\n",
    "\n",
    "3. Use the `savings_df` DataFrame to plot a pie chart that visualizes the composition of the member’s portfolio. The y-axis of the pie chart uses `amount`. Be sure to add a title.\n",
    "\n",
    "4. Using Python, determine if the current portfolio has enough to create an emergency fund as part of the member’s financial plan. Ideally, an emergency fund should equal to three times the member’s monthly income. To do this, implement the following steps:\n",
    "\n",
    "    1. Create a variable named `emergency_fund_value`, and set it equal to three times the value of the member’s `monthly_income` of $12000. (You set this earlier in Part 1).\n",
    "\n",
    "    2. Create a series of three if statements to determine if the member’s total portfolio is large enough to fund the emergency portfolio:\n",
    "\n",
    "        1. If the total portfolio value is greater than the emergency fund value, display a message congratulating the member for having enough money in this fund.\n",
    "\n",
    "        2. Else if the total portfolio value is equal to the emergency fund value, display a message congratulating the member on reaching this important financial goal.\n",
    "\n",
    "        3. Else the total portfolio is less than the emergency fund value, so display a message showing how many dollars away the member is from reaching the goal. (Subtract the total portfolio value from the emergency fund value.)\n"
   ]
  },
  {
   "cell_type": "markdown",
   "metadata": {},
   "source": [
    "#### Step 1: Create a Python list named `savings_data` that has two elements. The first element contains the total value of the cryptocurrency wallet. The second element contains the total value of the stock and bond portions of the portfolio."
   ]
  },
  {
   "cell_type": "code",
   "execution_count": 23,
   "metadata": {},
   "outputs": [
    {
     "data": {
      "text/plain": [
       "[69780.9, 60689.5]"
      ]
     },
     "execution_count": 23,
     "metadata": {},
     "output_type": "execute_result"
    }
   ],
   "source": [
    "# Consolidate financial assets data into a Python list\n",
    "# YOUR CODE HERE\n",
    "savings_data = [total_crypto_wallet, total_stocks_bonds]\n",
    "\n",
    "# Review the Python list savings_data\n",
    "# YOUR CODE HERE\n",
    "savings_data"
   ]
  },
  {
   "cell_type": "markdown",
   "metadata": {},
   "source": [
    "#### Step 2: Use the `savings_data` list to create a Pandas DataFrame named `savings_df`, and then display this DataFrame. The function to create the DataFrame should take the following three parameters:\n",
    "\n",
    "- `savings_data`: Use the list that you just created.\n",
    "\n",
    "- `columns`: Set this parameter equal to a Python list with a single value called `amount`.\n",
    "\n",
    "- `index`: Set this parameter equal to a Python list with the values of `crypto` and `stock/bond`.\n"
   ]
  },
  {
   "cell_type": "code",
   "execution_count": 24,
   "metadata": {},
   "outputs": [
    {
     "data": {
      "text/html": [
       "<div>\n",
       "<style scoped>\n",
       "    .dataframe tbody tr th:only-of-type {\n",
       "        vertical-align: middle;\n",
       "    }\n",
       "\n",
       "    .dataframe tbody tr th {\n",
       "        vertical-align: top;\n",
       "    }\n",
       "\n",
       "    .dataframe thead th {\n",
       "        text-align: right;\n",
       "    }\n",
       "</style>\n",
       "<table border=\"1\" class=\"dataframe\">\n",
       "  <thead>\n",
       "    <tr style=\"text-align: right;\">\n",
       "      <th></th>\n",
       "      <th>amount</th>\n",
       "    </tr>\n",
       "  </thead>\n",
       "  <tbody>\n",
       "    <tr>\n",
       "      <th>crypto</th>\n",
       "      <td>69780.9</td>\n",
       "    </tr>\n",
       "    <tr>\n",
       "      <th>stock/bond</th>\n",
       "      <td>60689.5</td>\n",
       "    </tr>\n",
       "  </tbody>\n",
       "</table>\n",
       "</div>"
      ],
      "text/plain": [
       "             amount\n",
       "crypto      69780.9\n",
       "stock/bond  60689.5"
      ]
     },
     "execution_count": 24,
     "metadata": {},
     "output_type": "execute_result"
    }
   ],
   "source": [
    "# Create a Pandas DataFrame called savings_df \n",
    "# YOUR CODE HERE\n",
    "columns = [\"amount\"]\n",
    "index = [\"crypto\", \"stock/bond\"]\n",
    "savings_df = pd.DataFrame(savings_data, columns=columns, index=index)\n",
    "\n",
    "# Display the savings_df DataFrame\n",
    "# YOUR CODE HERE\n",
    "savings_df"
   ]
  },
  {
   "cell_type": "markdown",
   "metadata": {},
   "source": [
    "#### Step 3: Use the `savings_df` DataFrame to plot a pie chart that visualizes the composition of the member’s portfolio. The y-axis of the pie chart uses `amount`. Be sure to add a title."
   ]
  },
  {
   "cell_type": "code",
   "execution_count": 25,
   "metadata": {},
   "outputs": [
    {
     "data": {
      "image/png": "[encoded data removed]",
      "text/plain": [
       "<Figure size 504x504 with 1 Axes>"
      ]
     },
     "metadata": {},
     "output_type": "display_data"
    }
   ],
   "source": [
    "# Plot the total value of the member's portfolio (crypto and stock/bond) in a pie chart\n",
    "# YOUR CODE HERE\n",
    "plot = savings_df.plot.pie(subplots=True, figsize=(7, 7))"
   ]
  },
  {
   "cell_type": "markdown",
   "metadata": {},
   "source": [
    "#### Step 4: Using Python, determine if the current portfolio has enough to create an emergency fund as part of the member’s financial plan. Ideally, an emergency fund should equal to three times the member’s monthly income. To do this, implement the following steps:\n",
    "\n",
    "Step 1. Create a variable named `emergency_fund_value`, and set it equal to three times the value of the member’s `monthly_income` of 12000. (You set this earlier in Part 1).\n",
    "\n",
    "Step 2. Create a series of three if statements to determine if the member’s total portfolio is large enough to fund the emergency portfolio:\n",
    "\n",
    "* If the total portfolio value is greater than the emergency fund value, display a message congratulating the member for having enough money in this fund.\n",
    "\n",
    "* Else if the total portfolio value is equal to the emergency fund value, display a message congratulating the member on reaching this important financial goal.\n",
    "\n",
    "* Else the total portfolio is less than the emergency fund value, so display a message showing how many dollars away the member is from reaching the goal. (Subtract the total portfolio value from the emergency fund value.)\n"
   ]
  },
  {
   "cell_type": "markdown",
   "metadata": {},
   "source": [
    "##### Step 4-1: Create a variable named `emergency_fund_value`, and set it equal to three times the value of the member’s `monthly_income` of 12000. (You set this earlier in Part 1)."
   ]
  },
  {
   "cell_type": "code",
   "execution_count": 26,
   "metadata": {},
   "outputs": [],
   "source": [
    "# Create a variable named emergency_fund_value\n",
    "# YOUR CODE HERE\n",
    "emergency_fund_value = monthly_income * 3"
   ]
  },
  {
   "cell_type": "markdown",
   "metadata": {},
   "source": [
    "##### Step 4-2: Create a series of three if statements to determine if the member’s total portfolio is large enough to fund the emergency portfolio:\n",
    "\n",
    "* If the total portfolio value is greater than the emergency fund value, display a message congratulating the member for having enough money in this fund.\n",
    "\n",
    "* Else if the total portfolio value is equal to the emergency fund value, display a message congratulating the member on reaching this important financial goal.\n",
    "\n",
    "* Else the total portfolio is less than the emergency fund value, so display a message showing how many dollars away the member is from reaching the goal. (Subtract the total portfolio value from the emergency fund value.)"
   ]
  },
  {
   "cell_type": "code",
   "execution_count": 27,
   "metadata": {},
   "outputs": [
    {
     "name": "stdout",
     "output_type": "stream",
     "text": [
      "Congratulations you have enough money to create and emergency fund.\n"
     ]
    }
   ],
   "source": [
    "# Evaluate the possibility of creating an emergency fund with 3 conditions:\n",
    "if total_portfolio > emergency_fund_value:\n",
    "    print(\"Congratulations you have enough money to create and emergency fund.\")\n",
    "elif total_portfolio == emergency_fund_value:\n",
    "    print(\"Congratulations you have just enough money to create an emergency fund.  This is an important milestone.\")\n",
    "else:\n",
    "    print(f\"You need {emergency_fund_value - total_portfolio} more assets to be able to create an emergency fund.\") "
   ]
  },
  {
   "cell_type": "markdown",
   "metadata": {},
   "source": [
    "## Part 2: Create a Financial Planner for Retirement"
   ]
  },
  {
   "cell_type": "markdown",
   "metadata": {},
   "source": [
    "### Create the Monte Carlo Simulation\n",
    "\n",
    "In this section, you’ll use the MCForecastTools library to create a Monte Carlo simulation for the member’s savings portfolio. To do this, complete the following steps:\n",
    "\n",
    "1. Make an API call via the Alpaca SDK to get 3 years of historical closing prices for a traditional 60/40 portfolio split: 60% stocks (SPY) and 40% bonds (AGG).\n",
    "\n",
    "2. Run a Monte Carlo simulation of 500 samples and 30 years for the 60/40 portfolio, and then plot the results.The following image shows the overlay line plot resulting from a simulation with these characteristics. However, because a random number generator is used to run each live Monte Carlo simulation, your image will differ slightly from this exact image:\n",
    "\n",
    "![A screenshot depicts the resulting plot.](Images/5-4-monte-carlo-line-plot.png)\n",
    "\n",
    "3. Plot the probability distribution of the Monte Carlo simulation. Plot the probability distribution of the Monte Carlo simulation. The following image shows the histogram plot resulting from a simulation with these characteristics. However, because a random number generator is used to run each live Monte Carlo simulation, your image will differ slightly from this exact image:\n",
    "\n",
    "![A screenshot depicts the histogram plot.](Images/5-4-monte-carlo-histogram.png)\n",
    "\n",
    "4. Generate the summary statistics for the Monte Carlo simulation.\n",
    "\n"
   ]
  },
  {
   "cell_type": "markdown",
   "metadata": {},
   "source": [
    "#### Step 1: Make an API call via the Alpaca SDK to get 3 years of historical closing prices for a traditional 60/40 portfolio split: 60% stocks (SPY) and 40% bonds (AGG)."
   ]
  },
  {
   "cell_type": "code",
   "execution_count": 38,
   "metadata": {},
   "outputs": [],
   "source": [
    "# Set start and end dates of 3 years back from your current date\n",
    "# Alternatively, you can use an end date of 2020-08-07 and work 3 years back from that date \n",
    "start_date = pd.Timestamp(\"2019-01-15\", tz=\"America/New_York\").isoformat()\n",
    "end_date = pd.Timestamp(\"2022-01-15\", tz=\"America/New_York\").isoformat()\n",
    "\n",
    "# Set number of rows to 1000 to retrieve the maximum amount of rows\n",
    "limit_rows = 1000"
   ]
  },
  {
   "cell_type": "code",
   "execution_count": 39,
   "metadata": {},
   "outputs": [
    {
     "data": {
      "text/html": [
       "<div>\n",
       "<style scoped>\n",
       "    .dataframe tbody tr th:only-of-type {\n",
       "        vertical-align: middle;\n",
       "    }\n",
       "\n",
       "    .dataframe tbody tr th {\n",
       "        vertical-align: top;\n",
       "    }\n",
       "\n",
       "    .dataframe thead tr th {\n",
       "        text-align: left;\n",
       "    }\n",
       "\n",
       "    .dataframe thead tr:last-of-type th {\n",
       "        text-align: right;\n",
       "    }\n",
       "</style>\n",
       "<table border=\"1\" class=\"dataframe\">\n",
       "  <thead>\n",
       "    <tr>\n",
       "      <th></th>\n",
       "      <th colspan=\"5\" halign=\"left\">AGG</th>\n",
       "      <th colspan=\"5\" halign=\"left\">SPY</th>\n",
       "    </tr>\n",
       "    <tr>\n",
       "      <th></th>\n",
       "      <th>open</th>\n",
       "      <th>high</th>\n",
       "      <th>low</th>\n",
       "      <th>close</th>\n",
       "      <th>volume</th>\n",
       "      <th>open</th>\n",
       "      <th>high</th>\n",
       "      <th>low</th>\n",
       "      <th>close</th>\n",
       "      <th>volume</th>\n",
       "    </tr>\n",
       "    <tr>\n",
       "      <th>time</th>\n",
       "      <th></th>\n",
       "      <th></th>\n",
       "      <th></th>\n",
       "      <th></th>\n",
       "      <th></th>\n",
       "      <th></th>\n",
       "      <th></th>\n",
       "      <th></th>\n",
       "      <th></th>\n",
       "      <th></th>\n",
       "    </tr>\n",
       "  </thead>\n",
       "  <tbody>\n",
       "    <tr>\n",
       "      <th>2022-01-10 00:00:00-05:00</th>\n",
       "      <td>112.23</td>\n",
       "      <td>112.420</td>\n",
       "      <td>112.1427</td>\n",
       "      <td>112.41</td>\n",
       "      <td>6475269.0</td>\n",
       "      <td>462.70</td>\n",
       "      <td>465.74</td>\n",
       "      <td>456.5973</td>\n",
       "      <td>465.56</td>\n",
       "      <td>106360848</td>\n",
       "    </tr>\n",
       "    <tr>\n",
       "      <th>2022-01-11 00:00:00-05:00</th>\n",
       "      <td>112.33</td>\n",
       "      <td>112.630</td>\n",
       "      <td>112.2650</td>\n",
       "      <td>112.61</td>\n",
       "      <td>5723770.0</td>\n",
       "      <td>465.22</td>\n",
       "      <td>469.85</td>\n",
       "      <td>462.0500</td>\n",
       "      <td>469.74</td>\n",
       "      <td>63249917</td>\n",
       "    </tr>\n",
       "    <tr>\n",
       "      <th>2022-01-12 00:00:00-05:00</th>\n",
       "      <td>112.72</td>\n",
       "      <td>112.785</td>\n",
       "      <td>112.5800</td>\n",
       "      <td>112.60</td>\n",
       "      <td>6159865.0</td>\n",
       "      <td>471.59</td>\n",
       "      <td>473.20</td>\n",
       "      <td>468.9400</td>\n",
       "      <td>471.06</td>\n",
       "      <td>58775301</td>\n",
       "    </tr>\n",
       "    <tr>\n",
       "      <th>2022-01-13 00:00:00-05:00</th>\n",
       "      <td>112.60</td>\n",
       "      <td>112.800</td>\n",
       "      <td>112.5100</td>\n",
       "      <td>112.80</td>\n",
       "      <td>7925476.0</td>\n",
       "      <td>472.21</td>\n",
       "      <td>472.88</td>\n",
       "      <td>463.4400</td>\n",
       "      <td>464.54</td>\n",
       "      <td>79071832</td>\n",
       "    </tr>\n",
       "    <tr>\n",
       "      <th>2022-01-14 00:00:00-05:00</th>\n",
       "      <td>112.53</td>\n",
       "      <td>112.545</td>\n",
       "      <td>112.1500</td>\n",
       "      <td>112.17</td>\n",
       "      <td>8362916.0</td>\n",
       "      <td>461.19</td>\n",
       "      <td>465.09</td>\n",
       "      <td>459.9000</td>\n",
       "      <td>464.68</td>\n",
       "      <td>84363989</td>\n",
       "    </tr>\n",
       "  </tbody>\n",
       "</table>\n",
       "</div>"
      ],
      "text/plain": [
       "                              AGG                                        \\\n",
       "                             open     high       low   close     volume   \n",
       "time                                                                      \n",
       "2022-01-10 00:00:00-05:00  112.23  112.420  112.1427  112.41  6475269.0   \n",
       "2022-01-11 00:00:00-05:00  112.33  112.630  112.2650  112.61  5723770.0   \n",
       "2022-01-12 00:00:00-05:00  112.72  112.785  112.5800  112.60  6159865.0   \n",
       "2022-01-13 00:00:00-05:00  112.60  112.800  112.5100  112.80  7925476.0   \n",
       "2022-01-14 00:00:00-05:00  112.53  112.545  112.1500  112.17  8362916.0   \n",
       "\n",
       "                              SPY                                       \n",
       "                             open    high       low   close     volume  \n",
       "time                                                                    \n",
       "2022-01-10 00:00:00-05:00  462.70  465.74  456.5973  465.56  106360848  \n",
       "2022-01-11 00:00:00-05:00  465.22  469.85  462.0500  469.74   63249917  \n",
       "2022-01-12 00:00:00-05:00  471.59  473.20  468.9400  471.06   58775301  \n",
       "2022-01-13 00:00:00-05:00  472.21  472.88  463.4400  464.54   79071832  \n",
       "2022-01-14 00:00:00-05:00  461.19  465.09  459.9000  464.68   84363989  "
      ]
     },
     "execution_count": 39,
     "metadata": {},
     "output_type": "execute_result"
    }
   ],
   "source": [
    "# Use the Alpaca get_barset function to make the API call to get the 3 years worth of pricing data\n",
    "# The tickers and timeframe parameters should have been set in Part 1 of this activity \n",
    "# The start and end dates should be updated with the information set above\n",
    "# Remember to add the df property to the end of the call so the response is returned as a DataFrame\n",
    "pricing_data = alpaca.get_barset(tickers, timeframe, start=start_date, end=end_date, limit=limit_rows).df\n",
    "\n",
    "\n",
    "# Display both the first and last five rows of the DataFrame\n",
    "pricing_data.head()\n",
    "pricing_data.tail()\n"
   ]
  },
  {
   "cell_type": "markdown",
   "metadata": {},
   "source": [
    "#### Step 2: Run a Monte Carlo simulation of 500 samples and 30 years for the 60/40 portfolio, and then plot the results."
   ]
  },
  {
   "cell_type": "code",
   "execution_count": 41,
   "metadata": {},
   "outputs": [
    {
     "data": {
      "text/html": [
       "<div>\n",
       "<style scoped>\n",
       "    .dataframe tbody tr th:only-of-type {\n",
       "        vertical-align: middle;\n",
       "    }\n",
       "\n",
       "    .dataframe tbody tr th {\n",
       "        vertical-align: top;\n",
       "    }\n",
       "\n",
       "    .dataframe thead tr th {\n",
       "        text-align: left;\n",
       "    }\n",
       "\n",
       "    .dataframe thead tr:last-of-type th {\n",
       "        text-align: right;\n",
       "    }\n",
       "</style>\n",
       "<table border=\"1\" class=\"dataframe\">\n",
       "  <thead>\n",
       "    <tr>\n",
       "      <th></th>\n",
       "      <th colspan=\"6\" halign=\"left\">AGG</th>\n",
       "      <th colspan=\"6\" halign=\"left\">SPY</th>\n",
       "    </tr>\n",
       "    <tr>\n",
       "      <th></th>\n",
       "      <th>open</th>\n",
       "      <th>high</th>\n",
       "      <th>low</th>\n",
       "      <th>close</th>\n",
       "      <th>volume</th>\n",
       "      <th>daily_return</th>\n",
       "      <th>open</th>\n",
       "      <th>high</th>\n",
       "      <th>low</th>\n",
       "      <th>close</th>\n",
       "      <th>volume</th>\n",
       "      <th>daily_return</th>\n",
       "    </tr>\n",
       "    <tr>\n",
       "      <th>time</th>\n",
       "      <th></th>\n",
       "      <th></th>\n",
       "      <th></th>\n",
       "      <th></th>\n",
       "      <th></th>\n",
       "      <th></th>\n",
       "      <th></th>\n",
       "      <th></th>\n",
       "      <th></th>\n",
       "      <th></th>\n",
       "      <th></th>\n",
       "      <th></th>\n",
       "    </tr>\n",
       "  </thead>\n",
       "  <tbody>\n",
       "    <tr>\n",
       "      <th>2019-01-15 00:00:00-05:00</th>\n",
       "      <td>106.54</td>\n",
       "      <td>106.5500</td>\n",
       "      <td>106.3300</td>\n",
       "      <td>106.400</td>\n",
       "      <td>3370918.0</td>\n",
       "      <td>NaN</td>\n",
       "      <td>257.82</td>\n",
       "      <td>260.7000</td>\n",
       "      <td>257.250</td>\n",
       "      <td>260.21</td>\n",
       "      <td>72130969</td>\n",
       "      <td>NaN</td>\n",
       "    </tr>\n",
       "    <tr>\n",
       "      <th>2019-01-16 00:00:00-05:00</th>\n",
       "      <td>106.33</td>\n",
       "      <td>106.5200</td>\n",
       "      <td>105.7500</td>\n",
       "      <td>106.475</td>\n",
       "      <td>3531236.0</td>\n",
       "      <td>0.000705</td>\n",
       "      <td>260.83</td>\n",
       "      <td>261.9666</td>\n",
       "      <td>260.600</td>\n",
       "      <td>260.94</td>\n",
       "      <td>59299089</td>\n",
       "      <td>0.002805</td>\n",
       "    </tr>\n",
       "    <tr>\n",
       "      <th>2019-01-17 00:00:00-05:00</th>\n",
       "      <td>106.53</td>\n",
       "      <td>106.5300</td>\n",
       "      <td>106.3350</td>\n",
       "      <td>106.430</td>\n",
       "      <td>5184640.0</td>\n",
       "      <td>-0.000423</td>\n",
       "      <td>260.01</td>\n",
       "      <td>263.9200</td>\n",
       "      <td>259.960</td>\n",
       "      <td>262.88</td>\n",
       "      <td>79893207</td>\n",
       "      <td>0.007435</td>\n",
       "    </tr>\n",
       "    <tr>\n",
       "      <th>2019-01-18 00:00:00-05:00</th>\n",
       "      <td>106.37</td>\n",
       "      <td>106.4799</td>\n",
       "      <td>106.2803</td>\n",
       "      <td>106.325</td>\n",
       "      <td>5666187.0</td>\n",
       "      <td>-0.000987</td>\n",
       "      <td>264.98</td>\n",
       "      <td>266.9800</td>\n",
       "      <td>262.998</td>\n",
       "      <td>266.16</td>\n",
       "      <td>99666883</td>\n",
       "      <td>0.012477</td>\n",
       "    </tr>\n",
       "    <tr>\n",
       "      <th>2019-01-22 00:00:00-05:00</th>\n",
       "      <td>106.44</td>\n",
       "      <td>108.5100</td>\n",
       "      <td>106.4400</td>\n",
       "      <td>106.455</td>\n",
       "      <td>6646771.0</td>\n",
       "      <td>0.001223</td>\n",
       "      <td>264.82</td>\n",
       "      <td>265.0600</td>\n",
       "      <td>261.060</td>\n",
       "      <td>261.97</td>\n",
       "      <td>88775864</td>\n",
       "      <td>-0.015742</td>\n",
       "    </tr>\n",
       "  </tbody>\n",
       "</table>\n",
       "</div>"
      ],
      "text/plain": [
       "                              AGG                                          \\\n",
       "                             open      high       low    close     volume   \n",
       "time                                                                        \n",
       "2019-01-15 00:00:00-05:00  106.54  106.5500  106.3300  106.400  3370918.0   \n",
       "2019-01-16 00:00:00-05:00  106.33  106.5200  105.7500  106.475  3531236.0   \n",
       "2019-01-17 00:00:00-05:00  106.53  106.5300  106.3350  106.430  5184640.0   \n",
       "2019-01-18 00:00:00-05:00  106.37  106.4799  106.2803  106.325  5666187.0   \n",
       "2019-01-22 00:00:00-05:00  106.44  108.5100  106.4400  106.455  6646771.0   \n",
       "\n",
       "                                           SPY                             \\\n",
       "                          daily_return    open      high      low   close   \n",
       "time                                                                        \n",
       "2019-01-15 00:00:00-05:00          NaN  257.82  260.7000  257.250  260.21   \n",
       "2019-01-16 00:00:00-05:00     0.000705  260.83  261.9666  260.600  260.94   \n",
       "2019-01-17 00:00:00-05:00    -0.000423  260.01  263.9200  259.960  262.88   \n",
       "2019-01-18 00:00:00-05:00    -0.000987  264.98  266.9800  262.998  266.16   \n",
       "2019-01-22 00:00:00-05:00     0.001223  264.82  265.0600  261.060  261.97   \n",
       "\n",
       "                                                  \n",
       "                             volume daily_return  \n",
       "time                                              \n",
       "2019-01-15 00:00:00-05:00  72130969          NaN  \n",
       "2019-01-16 00:00:00-05:00  59299089     0.002805  \n",
       "2019-01-17 00:00:00-05:00  79893207     0.007435  \n",
       "2019-01-18 00:00:00-05:00  99666883     0.012477  \n",
       "2019-01-22 00:00:00-05:00  88775864    -0.015742  "
      ]
     },
     "execution_count": 41,
     "metadata": {},
     "output_type": "execute_result"
    }
   ],
   "source": [
    "# Configure the Monte Carlo simulation to forecast 30 years cumulative returns\n",
    "# The weights should be split 40% to AGG and 60% to SPY.\n",
    "# Run 500 samples.\n",
    "MC_portfolio = MCSimulation(\n",
    "    portfolio_data = pricing_data,\n",
    "    weights = [.4,0.6],\n",
    "    num_simulation = 500,\n",
    "    num_trading_days = 252*30\n",
    ")\n",
    "# Review the simulation input data\n",
    "# YOUR CODE HERE\n",
    "MC_portfolio.portfolio_data.head()"
   ]
  },
  {
   "cell_type": "code",
   "execution_count": 42,
   "metadata": {},
   "outputs": [
    {
     "name": "stdout",
     "output_type": "stream",
     "text": [
      "Running Monte Carlo simulation number 0.\n",
      "Running Monte Carlo simulation number 10.\n",
      "Running Monte Carlo simulation number 20.\n",
      "Running Monte Carlo simulation number 30.\n",
      "Running Monte Carlo simulation number 40.\n",
      "Running Monte Carlo simulation number 50.\n",
      "Running Monte Carlo simulation number 60.\n",
      "Running Monte Carlo simulation number 70.\n",
      "Running Monte Carlo simulation number 80.\n",
      "Running Monte Carlo simulation number 90.\n",
      "Running Monte Carlo simulation number 100.\n"
     ]
    },
    {
     "name": "stderr",
     "output_type": "stream",
     "text": [
      "C:\\Users\\canav\\Documents\\Fintech\\module_5\\Module_5_Challenge\\MCForecastTools.py:117: PerformanceWarning: DataFrame is highly fragmented.  This is usually the result of calling `frame.insert` many times, which has poor performance.  Consider joining all columns at once using pd.concat(axis=1) instead.  To get a de-fragmented frame, use `newframe = frame.copy()`\n",
      "  portfolio_cumulative_returns[n] = (1 + sim_df.fillna(0)).cumprod()\n"
     ]
    },
    {
     "name": "stdout",
     "output_type": "stream",
     "text": [
      "Running Monte Carlo simulation number 110.\n",
      "Running Monte Carlo simulation number 120.\n",
      "Running Monte Carlo simulation number 130.\n",
      "Running Monte Carlo simulation number 140.\n",
      "Running Monte Carlo simulation number 150.\n",
      "Running Monte Carlo simulation number 160.\n",
      "Running Monte Carlo simulation number 170.\n",
      "Running Monte Carlo simulation number 180.\n",
      "Running Monte Carlo simulation number 190.\n",
      "Running Monte Carlo simulation number 200.\n",
      "Running Monte Carlo simulation number 210.\n",
      "Running Monte Carlo simulation number 220.\n",
      "Running Monte Carlo simulation number 230.\n",
      "Running Monte Carlo simulation number 240.\n",
      "Running Monte Carlo simulation number 250.\n",
      "Running Monte Carlo simulation number 260.\n",
      "Running Monte Carlo simulation number 270.\n",
      "Running Monte Carlo simulation number 280.\n",
      "Running Monte Carlo simulation number 290.\n",
      "Running Monte Carlo simulation number 300.\n",
      "Running Monte Carlo simulation number 310.\n",
      "Running Monte Carlo simulation number 320.\n",
      "Running Monte Carlo simulation number 330.\n",
      "Running Monte Carlo simulation number 340.\n",
      "Running Monte Carlo simulation number 350.\n",
      "Running Monte Carlo simulation number 360.\n",
      "Running Monte Carlo simulation number 370.\n",
      "Running Monte Carlo simulation number 380.\n",
      "Running Monte Carlo simulation number 390.\n",
      "Running Monte Carlo simulation number 400.\n",
      "Running Monte Carlo simulation number 410.\n",
      "Running Monte Carlo simulation number 420.\n",
      "Running Monte Carlo simulation number 430.\n",
      "Running Monte Carlo simulation number 440.\n",
      "Running Monte Carlo simulation number 450.\n",
      "Running Monte Carlo simulation number 460.\n",
      "Running Monte Carlo simulation number 470.\n",
      "Running Monte Carlo simulation number 480.\n",
      "Running Monte Carlo simulation number 490.\n"
     ]
    },
    {
     "data": {
      "text/html": [
       "<div>\n",
       "<style scoped>\n",
       "    .dataframe tbody tr th:only-of-type {\n",
       "        vertical-align: middle;\n",
       "    }\n",
       "\n",
       "    .dataframe tbody tr th {\n",
       "        vertical-align: top;\n",
       "    }\n",
       "\n",
       "    .dataframe thead th {\n",
       "        text-align: right;\n",
       "    }\n",
       "</style>\n",
       "<table border=\"1\" class=\"dataframe\">\n",
       "  <thead>\n",
       "    <tr style=\"text-align: right;\">\n",
       "      <th></th>\n",
       "      <th>0</th>\n",
       "      <th>1</th>\n",
       "      <th>2</th>\n",
       "      <th>3</th>\n",
       "      <th>4</th>\n",
       "      <th>5</th>\n",
       "      <th>6</th>\n",
       "      <th>7</th>\n",
       "      <th>8</th>\n",
       "      <th>9</th>\n",
       "      <th>...</th>\n",
       "      <th>490</th>\n",
       "      <th>491</th>\n",
       "      <th>492</th>\n",
       "      <th>493</th>\n",
       "      <th>494</th>\n",
       "      <th>495</th>\n",
       "      <th>496</th>\n",
       "      <th>497</th>\n",
       "      <th>498</th>\n",
       "      <th>499</th>\n",
       "    </tr>\n",
       "  </thead>\n",
       "  <tbody>\n",
       "    <tr>\n",
       "      <th>0</th>\n",
       "      <td>1.000000</td>\n",
       "      <td>1.000000</td>\n",
       "      <td>1.000000</td>\n",
       "      <td>1.000000</td>\n",
       "      <td>1.000000</td>\n",
       "      <td>1.000000</td>\n",
       "      <td>1.000000</td>\n",
       "      <td>1.000000</td>\n",
       "      <td>1.000000</td>\n",
       "      <td>1.000000</td>\n",
       "      <td>...</td>\n",
       "      <td>1.000000</td>\n",
       "      <td>1.000000</td>\n",
       "      <td>1.000000</td>\n",
       "      <td>1.000000</td>\n",
       "      <td>1.000000</td>\n",
       "      <td>1.000000</td>\n",
       "      <td>1.000000</td>\n",
       "      <td>1.000000</td>\n",
       "      <td>1.000000</td>\n",
       "      <td>1.000000</td>\n",
       "    </tr>\n",
       "    <tr>\n",
       "      <th>1</th>\n",
       "      <td>1.007782</td>\n",
       "      <td>0.991560</td>\n",
       "      <td>1.004821</td>\n",
       "      <td>1.001033</td>\n",
       "      <td>0.993524</td>\n",
       "      <td>1.006754</td>\n",
       "      <td>1.012310</td>\n",
       "      <td>0.994962</td>\n",
       "      <td>0.984975</td>\n",
       "      <td>1.003929</td>\n",
       "      <td>...</td>\n",
       "      <td>1.004810</td>\n",
       "      <td>0.986452</td>\n",
       "      <td>1.015554</td>\n",
       "      <td>1.014399</td>\n",
       "      <td>1.001966</td>\n",
       "      <td>1.009212</td>\n",
       "      <td>0.994687</td>\n",
       "      <td>0.985842</td>\n",
       "      <td>0.995242</td>\n",
       "      <td>1.000764</td>\n",
       "    </tr>\n",
       "    <tr>\n",
       "      <th>2</th>\n",
       "      <td>1.001083</td>\n",
       "      <td>0.996552</td>\n",
       "      <td>1.015244</td>\n",
       "      <td>0.987203</td>\n",
       "      <td>0.982681</td>\n",
       "      <td>1.013439</td>\n",
       "      <td>1.003171</td>\n",
       "      <td>0.997717</td>\n",
       "      <td>1.003736</td>\n",
       "      <td>1.001165</td>\n",
       "      <td>...</td>\n",
       "      <td>1.011226</td>\n",
       "      <td>0.981439</td>\n",
       "      <td>1.011757</td>\n",
       "      <td>1.029757</td>\n",
       "      <td>0.986234</td>\n",
       "      <td>0.999025</td>\n",
       "      <td>0.982123</td>\n",
       "      <td>0.985058</td>\n",
       "      <td>1.012789</td>\n",
       "      <td>1.001121</td>\n",
       "    </tr>\n",
       "    <tr>\n",
       "      <th>3</th>\n",
       "      <td>0.985821</td>\n",
       "      <td>0.988619</td>\n",
       "      <td>1.007517</td>\n",
       "      <td>0.997523</td>\n",
       "      <td>0.982332</td>\n",
       "      <td>1.020407</td>\n",
       "      <td>0.999772</td>\n",
       "      <td>1.007007</td>\n",
       "      <td>1.006202</td>\n",
       "      <td>0.997990</td>\n",
       "      <td>...</td>\n",
       "      <td>1.025723</td>\n",
       "      <td>0.982368</td>\n",
       "      <td>1.003100</td>\n",
       "      <td>1.027624</td>\n",
       "      <td>0.984824</td>\n",
       "      <td>1.005460</td>\n",
       "      <td>0.976101</td>\n",
       "      <td>0.992035</td>\n",
       "      <td>1.022742</td>\n",
       "      <td>1.002307</td>\n",
       "    </tr>\n",
       "    <tr>\n",
       "      <th>4</th>\n",
       "      <td>0.998053</td>\n",
       "      <td>0.984435</td>\n",
       "      <td>1.013479</td>\n",
       "      <td>0.998853</td>\n",
       "      <td>0.981241</td>\n",
       "      <td>1.022848</td>\n",
       "      <td>1.009441</td>\n",
       "      <td>1.010302</td>\n",
       "      <td>1.024957</td>\n",
       "      <td>0.992100</td>\n",
       "      <td>...</td>\n",
       "      <td>1.020520</td>\n",
       "      <td>0.978634</td>\n",
       "      <td>0.997718</td>\n",
       "      <td>1.019896</td>\n",
       "      <td>0.973005</td>\n",
       "      <td>0.983617</td>\n",
       "      <td>0.982639</td>\n",
       "      <td>0.987545</td>\n",
       "      <td>1.025294</td>\n",
       "      <td>0.997447</td>\n",
       "    </tr>\n",
       "    <tr>\n",
       "      <th>...</th>\n",
       "      <td>...</td>\n",
       "      <td>...</td>\n",
       "      <td>...</td>\n",
       "      <td>...</td>\n",
       "      <td>...</td>\n",
       "      <td>...</td>\n",
       "      <td>...</td>\n",
       "      <td>...</td>\n",
       "      <td>...</td>\n",
       "      <td>...</td>\n",
       "      <td>...</td>\n",
       "      <td>...</td>\n",
       "      <td>...</td>\n",
       "      <td>...</td>\n",
       "      <td>...</td>\n",
       "      <td>...</td>\n",
       "      <td>...</td>\n",
       "      <td>...</td>\n",
       "      <td>...</td>\n",
       "      <td>...</td>\n",
       "      <td>...</td>\n",
       "    </tr>\n",
       "    <tr>\n",
       "      <th>7556</th>\n",
       "      <td>42.934310</td>\n",
       "      <td>77.565830</td>\n",
       "      <td>81.425507</td>\n",
       "      <td>31.556655</td>\n",
       "      <td>40.791669</td>\n",
       "      <td>22.461438</td>\n",
       "      <td>64.239627</td>\n",
       "      <td>77.592599</td>\n",
       "      <td>170.175629</td>\n",
       "      <td>13.439168</td>\n",
       "      <td>...</td>\n",
       "      <td>31.049398</td>\n",
       "      <td>61.454091</td>\n",
       "      <td>48.267187</td>\n",
       "      <td>40.754308</td>\n",
       "      <td>72.263016</td>\n",
       "      <td>13.891209</td>\n",
       "      <td>39.777793</td>\n",
       "      <td>68.023301</td>\n",
       "      <td>23.959416</td>\n",
       "      <td>18.575515</td>\n",
       "    </tr>\n",
       "    <tr>\n",
       "      <th>7557</th>\n",
       "      <td>43.409980</td>\n",
       "      <td>77.543268</td>\n",
       "      <td>81.815832</td>\n",
       "      <td>31.633092</td>\n",
       "      <td>41.416521</td>\n",
       "      <td>22.482418</td>\n",
       "      <td>65.251700</td>\n",
       "      <td>77.357952</td>\n",
       "      <td>171.407189</td>\n",
       "      <td>13.225116</td>\n",
       "      <td>...</td>\n",
       "      <td>30.647439</td>\n",
       "      <td>61.588843</td>\n",
       "      <td>48.325389</td>\n",
       "      <td>41.327140</td>\n",
       "      <td>72.491629</td>\n",
       "      <td>13.877294</td>\n",
       "      <td>39.912511</td>\n",
       "      <td>67.697055</td>\n",
       "      <td>24.132536</td>\n",
       "      <td>18.671569</td>\n",
       "    </tr>\n",
       "    <tr>\n",
       "      <th>7558</th>\n",
       "      <td>43.425932</td>\n",
       "      <td>78.291966</td>\n",
       "      <td>82.232479</td>\n",
       "      <td>31.162678</td>\n",
       "      <td>41.777333</td>\n",
       "      <td>22.317213</td>\n",
       "      <td>65.933802</td>\n",
       "      <td>77.262289</td>\n",
       "      <td>171.749219</td>\n",
       "      <td>13.177415</td>\n",
       "      <td>...</td>\n",
       "      <td>30.946265</td>\n",
       "      <td>61.804376</td>\n",
       "      <td>48.295650</td>\n",
       "      <td>41.951425</td>\n",
       "      <td>72.039106</td>\n",
       "      <td>13.981274</td>\n",
       "      <td>40.410229</td>\n",
       "      <td>67.719210</td>\n",
       "      <td>24.120202</td>\n",
       "      <td>18.786566</td>\n",
       "    </tr>\n",
       "    <tr>\n",
       "      <th>7559</th>\n",
       "      <td>43.266825</td>\n",
       "      <td>78.278859</td>\n",
       "      <td>83.014342</td>\n",
       "      <td>30.669507</td>\n",
       "      <td>41.349467</td>\n",
       "      <td>22.292493</td>\n",
       "      <td>65.962986</td>\n",
       "      <td>77.237775</td>\n",
       "      <td>172.280083</td>\n",
       "      <td>13.217588</td>\n",
       "      <td>...</td>\n",
       "      <td>30.917507</td>\n",
       "      <td>61.035655</td>\n",
       "      <td>48.611300</td>\n",
       "      <td>42.076165</td>\n",
       "      <td>71.656465</td>\n",
       "      <td>13.772266</td>\n",
       "      <td>40.420466</td>\n",
       "      <td>67.707790</td>\n",
       "      <td>24.170420</td>\n",
       "      <td>18.845129</td>\n",
       "    </tr>\n",
       "    <tr>\n",
       "      <th>7560</th>\n",
       "      <td>42.936454</td>\n",
       "      <td>78.378958</td>\n",
       "      <td>83.947994</td>\n",
       "      <td>30.862809</td>\n",
       "      <td>40.552604</td>\n",
       "      <td>22.408106</td>\n",
       "      <td>66.424997</td>\n",
       "      <td>77.174803</td>\n",
       "      <td>171.387870</td>\n",
       "      <td>13.163747</td>\n",
       "      <td>...</td>\n",
       "      <td>30.819063</td>\n",
       "      <td>60.548546</td>\n",
       "      <td>48.873559</td>\n",
       "      <td>42.536644</td>\n",
       "      <td>72.034382</td>\n",
       "      <td>14.036163</td>\n",
       "      <td>40.841142</td>\n",
       "      <td>68.088623</td>\n",
       "      <td>24.264068</td>\n",
       "      <td>19.142788</td>\n",
       "    </tr>\n",
       "  </tbody>\n",
       "</table>\n",
       "<p>7561 rows × 500 columns</p>\n",
       "</div>"
      ],
      "text/plain": [
       "            0          1          2          3          4          5    \\\n",
       "0      1.000000   1.000000   1.000000   1.000000   1.000000   1.000000   \n",
       "1      1.007782   0.991560   1.004821   1.001033   0.993524   1.006754   \n",
       "2      1.001083   0.996552   1.015244   0.987203   0.982681   1.013439   \n",
       "3      0.985821   0.988619   1.007517   0.997523   0.982332   1.020407   \n",
       "4      0.998053   0.984435   1.013479   0.998853   0.981241   1.022848   \n",
       "...         ...        ...        ...        ...        ...        ...   \n",
       "7556  42.934310  77.565830  81.425507  31.556655  40.791669  22.461438   \n",
       "7557  43.409980  77.543268  81.815832  31.633092  41.416521  22.482418   \n",
       "7558  43.425932  78.291966  82.232479  31.162678  41.777333  22.317213   \n",
       "7559  43.266825  78.278859  83.014342  30.669507  41.349467  22.292493   \n",
       "7560  42.936454  78.378958  83.947994  30.862809  40.552604  22.408106   \n",
       "\n",
       "            6          7           8          9    ...        490        491  \\\n",
       "0      1.000000   1.000000    1.000000   1.000000  ...   1.000000   1.000000   \n",
       "1      1.012310   0.994962    0.984975   1.003929  ...   1.004810   0.986452   \n",
       "2      1.003171   0.997717    1.003736   1.001165  ...   1.011226   0.981439   \n",
       "3      0.999772   1.007007    1.006202   0.997990  ...   1.025723   0.982368   \n",
       "4      1.009441   1.010302    1.024957   0.992100  ...   1.020520   0.978634   \n",
       "...         ...        ...         ...        ...  ...        ...        ...   \n",
       "7556  64.239627  77.592599  170.175629  13.439168  ...  31.049398  61.454091   \n",
       "7557  65.251700  77.357952  171.407189  13.225116  ...  30.647439  61.588843   \n",
       "7558  65.933802  77.262289  171.749219  13.177415  ...  30.946265  61.804376   \n",
       "7559  65.962986  77.237775  172.280083  13.217588  ...  30.917507  61.035655   \n",
       "7560  66.424997  77.174803  171.387870  13.163747  ...  30.819063  60.548546   \n",
       "\n",
       "            492        493        494        495        496        497  \\\n",
       "0      1.000000   1.000000   1.000000   1.000000   1.000000   1.000000   \n",
       "1      1.015554   1.014399   1.001966   1.009212   0.994687   0.985842   \n",
       "2      1.011757   1.029757   0.986234   0.999025   0.982123   0.985058   \n",
       "3      1.003100   1.027624   0.984824   1.005460   0.976101   0.992035   \n",
       "4      0.997718   1.019896   0.973005   0.983617   0.982639   0.987545   \n",
       "...         ...        ...        ...        ...        ...        ...   \n",
       "7556  48.267187  40.754308  72.263016  13.891209  39.777793  68.023301   \n",
       "7557  48.325389  41.327140  72.491629  13.877294  39.912511  67.697055   \n",
       "7558  48.295650  41.951425  72.039106  13.981274  40.410229  67.719210   \n",
       "7559  48.611300  42.076165  71.656465  13.772266  40.420466  67.707790   \n",
       "7560  48.873559  42.536644  72.034382  14.036163  40.841142  68.088623   \n",
       "\n",
       "            498        499  \n",
       "0      1.000000   1.000000  \n",
       "1      0.995242   1.000764  \n",
       "2      1.012789   1.001121  \n",
       "3      1.022742   1.002307  \n",
       "4      1.025294   0.997447  \n",
       "...         ...        ...  \n",
       "7556  23.959416  18.575515  \n",
       "7557  24.132536  18.671569  \n",
       "7558  24.120202  18.786566  \n",
       "7559  24.170420  18.845129  \n",
       "7560  24.264068  19.142788  \n",
       "\n",
       "[7561 rows x 500 columns]"
      ]
     },
     "execution_count": 42,
     "metadata": {},
     "output_type": "execute_result"
    }
   ],
   "source": [
    "# Run the Monte Carlo simulation to forecast 30 years cumulative returns\n",
    "# YOUR CODE HERE\n",
    "MC_portfolio.calc_cumulative_return()"
   ]
  },
  {
   "cell_type": "code",
   "execution_count": 56,
   "metadata": {},
   "outputs": [
    {
     "data": {
      "image/png": "[encoded data removed]",
      "text/plain": [
       "<Figure size 432x288 with 1 Axes>"
      ]
     },
     "metadata": {
      "needs_background": "light"
     },
     "output_type": "display_data"
    }
   ],
   "source": [
    "# Visualize the 30-year Monte Carlo simulation by creating an\n",
    "# overlay line plot\n",
    "# YOUR CODE HERE\n",
    "portfolio_line_plot = MC_portfolio.plot_simulation()"
   ]
  },
  {
   "cell_type": "markdown",
   "metadata": {},
   "source": [
    "#### Step 3: Plot the probability distribution of the Monte Carlo simulation."
   ]
  },
  {
   "cell_type": "code",
   "execution_count": 57,
   "metadata": {},
   "outputs": [
    {
     "data": {
      "image/png": "[encoded data removed]",
      "text/plain": [
       "<Figure size 432x288 with 1 Axes>"
      ]
     },
     "metadata": {
      "needs_background": "light"
     },
     "output_type": "display_data"
    }
   ],
   "source": [
    "# Visualize the probability distribution of the 30-year Monte Carlo simulation \n",
    "# by plotting a histogram\n",
    "# YOUR CODE HERE\n",
    "portfolio_distribution_plot = MC_portfolio.plot_distribution()"
   ]
  },
  {
   "cell_type": "markdown",
   "metadata": {},
   "source": [
    "#### Step 4: Generate the summary statistics for the Monte Carlo simulation."
   ]
  },
  {
   "cell_type": "code",
   "execution_count": 46,
   "metadata": {},
   "outputs": [
    {
     "data": {
      "text/plain": [
       "count           500.000000\n",
       "mean             64.666702\n",
       "std              58.671048\n",
       "min               3.017453\n",
       "25%              28.451504\n",
       "50%              46.836616\n",
       "75%              80.937325\n",
       "max             512.253751\n",
       "95% CI Lower      9.683938\n",
       "95% CI Upper    204.727689\n",
       "Name: 7560, dtype: float64"
      ]
     },
     "execution_count": 46,
     "metadata": {},
     "output_type": "execute_result"
    }
   ],
   "source": [
    "# Generate summary statistics from the 30-year Monte Carlo simulation results\n",
    "# Save the results as a variable\n",
    "MC_summary = MC_portfolio.summarize_cumulative_return()\n",
    "\n",
    "\n",
    "# Review the 30-year Monte Carlo summary statistics\n",
    "MC_summary"
   ]
  },
  {
   "cell_type": "markdown",
   "metadata": {},
   "source": [
    "### Analyze the Retirement Portfolio Forecasts\n",
    "\n",
    "Using the current value of only the stock and bond portion of the member's portfolio and the summary statistics that you generated from the Monte Carlo simulation, answer the following question in your Jupyter notebook:\n",
    "\n",
    "-  What are the lower and upper bounds for the expected value of the portfolio with a 95% confidence interval?\n"
   ]
  },
  {
   "cell_type": "code",
   "execution_count": 50,
   "metadata": {},
   "outputs": [
    {
     "data": {
      "text/plain": [
       "60689.5"
      ]
     },
     "execution_count": 50,
     "metadata": {},
     "output_type": "execute_result"
    }
   ],
   "source": [
    "# Print the current balance of the stock and bond portion of the members portfolio\n",
    "# YOUR CODE HERE\n",
    "total_stocks_bonds"
   ]
  },
  {
   "cell_type": "code",
   "execution_count": 51,
   "metadata": {},
   "outputs": [
    {
     "name": "stdout",
     "output_type": "stream",
     "text": [
      "587713.35\n",
      "12424821.11\n"
     ]
    }
   ],
   "source": [
    "# Use the lower and upper `95%` confidence intervals to calculate the range of the possible outcomes for the current stock/bond portfolio\n",
    "ci_lower_thirty_cumulative_return = round(MC_summary[8]*total_stocks_bonds,2)\n",
    "ci_upper_thirty_cumulative_return = round(MC_summary[9]*total_stocks_bonds,2)\n",
    "# Print the result of your calculations\n",
    "# YOUR CODE HERE\n",
    "print(ci_lower_thirty_cumulative_return)\n",
    "print(ci_upper_thirty_cumulative_return)"
   ]
  },
  {
   "cell_type": "markdown",
   "metadata": {},
   "source": [
    "### Forecast Cumulative Returns in 10 Years\n",
    "\n",
    "The CTO of the credit union is impressed with your work on these planning tools but wonders if 30 years is a long time to wait until retirement. So, your next task is to adjust the retirement portfolio and run a new Monte Carlo simulation to find out if the changes will allow members to retire earlier.\n",
    "\n",
    "For this new Monte Carlo simulation, do the following: \n",
    "\n",
    "- Forecast the cumulative returns for 10 years from now. Because of the shortened investment horizon (30 years to 10 years), the portfolio needs to invest more heavily in the riskier asset&mdash;that is, stock&mdash;to help accumulate wealth for retirement. \n",
    "\n",
    "- Adjust the weights of the retirement portfolio so that the composition for the Monte Carlo simulation consists of 20% bonds and 80% stocks. \n",
    "\n",
    "- Run the simulation over 500 samples, and use the same data that the API call to Alpaca generated.\n",
    "\n",
    "- Based on the new Monte Carlo simulation, answer the following questions in your Jupyter notebook:\n",
    "\n",
    "    - Using the current value of only the stock and bond portion of the member's portfolio and the summary statistics that you generated from the new Monte Carlo simulation, what are the lower and upper bounds for the expected value of the portfolio (with the new weights) with a 95% confidence interval?\n",
    "\n",
    "    - Will weighting the portfolio more heavily toward stocks allow the credit union members to retire after only 10 years?\n"
   ]
  },
  {
   "cell_type": "code",
   "execution_count": 54,
   "metadata": {},
   "outputs": [
    {
     "data": {
      "text/html": [
       "<div>\n",
       "<style scoped>\n",
       "    .dataframe tbody tr th:only-of-type {\n",
       "        vertical-align: middle;\n",
       "    }\n",
       "\n",
       "    .dataframe tbody tr th {\n",
       "        vertical-align: top;\n",
       "    }\n",
       "\n",
       "    .dataframe thead tr th {\n",
       "        text-align: left;\n",
       "    }\n",
       "\n",
       "    .dataframe thead tr:last-of-type th {\n",
       "        text-align: right;\n",
       "    }\n",
       "</style>\n",
       "<table border=\"1\" class=\"dataframe\">\n",
       "  <thead>\n",
       "    <tr>\n",
       "      <th></th>\n",
       "      <th colspan=\"6\" halign=\"left\">AGG</th>\n",
       "      <th colspan=\"6\" halign=\"left\">SPY</th>\n",
       "    </tr>\n",
       "    <tr>\n",
       "      <th></th>\n",
       "      <th>open</th>\n",
       "      <th>high</th>\n",
       "      <th>low</th>\n",
       "      <th>close</th>\n",
       "      <th>volume</th>\n",
       "      <th>daily_return</th>\n",
       "      <th>open</th>\n",
       "      <th>high</th>\n",
       "      <th>low</th>\n",
       "      <th>close</th>\n",
       "      <th>volume</th>\n",
       "      <th>daily_return</th>\n",
       "    </tr>\n",
       "    <tr>\n",
       "      <th>time</th>\n",
       "      <th></th>\n",
       "      <th></th>\n",
       "      <th></th>\n",
       "      <th></th>\n",
       "      <th></th>\n",
       "      <th></th>\n",
       "      <th></th>\n",
       "      <th></th>\n",
       "      <th></th>\n",
       "      <th></th>\n",
       "      <th></th>\n",
       "      <th></th>\n",
       "    </tr>\n",
       "  </thead>\n",
       "  <tbody>\n",
       "    <tr>\n",
       "      <th>2019-01-15 00:00:00-05:00</th>\n",
       "      <td>106.54</td>\n",
       "      <td>106.5500</td>\n",
       "      <td>106.3300</td>\n",
       "      <td>106.400</td>\n",
       "      <td>3370918.0</td>\n",
       "      <td>NaN</td>\n",
       "      <td>257.82</td>\n",
       "      <td>260.7000</td>\n",
       "      <td>257.250</td>\n",
       "      <td>260.21</td>\n",
       "      <td>72130969</td>\n",
       "      <td>NaN</td>\n",
       "    </tr>\n",
       "    <tr>\n",
       "      <th>2019-01-16 00:00:00-05:00</th>\n",
       "      <td>106.33</td>\n",
       "      <td>106.5200</td>\n",
       "      <td>105.7500</td>\n",
       "      <td>106.475</td>\n",
       "      <td>3531236.0</td>\n",
       "      <td>0.000705</td>\n",
       "      <td>260.83</td>\n",
       "      <td>261.9666</td>\n",
       "      <td>260.600</td>\n",
       "      <td>260.94</td>\n",
       "      <td>59299089</td>\n",
       "      <td>0.002805</td>\n",
       "    </tr>\n",
       "    <tr>\n",
       "      <th>2019-01-17 00:00:00-05:00</th>\n",
       "      <td>106.53</td>\n",
       "      <td>106.5300</td>\n",
       "      <td>106.3350</td>\n",
       "      <td>106.430</td>\n",
       "      <td>5184640.0</td>\n",
       "      <td>-0.000423</td>\n",
       "      <td>260.01</td>\n",
       "      <td>263.9200</td>\n",
       "      <td>259.960</td>\n",
       "      <td>262.88</td>\n",
       "      <td>79893207</td>\n",
       "      <td>0.007435</td>\n",
       "    </tr>\n",
       "    <tr>\n",
       "      <th>2019-01-18 00:00:00-05:00</th>\n",
       "      <td>106.37</td>\n",
       "      <td>106.4799</td>\n",
       "      <td>106.2803</td>\n",
       "      <td>106.325</td>\n",
       "      <td>5666187.0</td>\n",
       "      <td>-0.000987</td>\n",
       "      <td>264.98</td>\n",
       "      <td>266.9800</td>\n",
       "      <td>262.998</td>\n",
       "      <td>266.16</td>\n",
       "      <td>99666883</td>\n",
       "      <td>0.012477</td>\n",
       "    </tr>\n",
       "    <tr>\n",
       "      <th>2019-01-22 00:00:00-05:00</th>\n",
       "      <td>106.44</td>\n",
       "      <td>108.5100</td>\n",
       "      <td>106.4400</td>\n",
       "      <td>106.455</td>\n",
       "      <td>6646771.0</td>\n",
       "      <td>0.001223</td>\n",
       "      <td>264.82</td>\n",
       "      <td>265.0600</td>\n",
       "      <td>261.060</td>\n",
       "      <td>261.97</td>\n",
       "      <td>88775864</td>\n",
       "      <td>-0.015742</td>\n",
       "    </tr>\n",
       "  </tbody>\n",
       "</table>\n",
       "</div>"
      ],
      "text/plain": [
       "                              AGG                                          \\\n",
       "                             open      high       low    close     volume   \n",
       "time                                                                        \n",
       "2019-01-15 00:00:00-05:00  106.54  106.5500  106.3300  106.400  3370918.0   \n",
       "2019-01-16 00:00:00-05:00  106.33  106.5200  105.7500  106.475  3531236.0   \n",
       "2019-01-17 00:00:00-05:00  106.53  106.5300  106.3350  106.430  5184640.0   \n",
       "2019-01-18 00:00:00-05:00  106.37  106.4799  106.2803  106.325  5666187.0   \n",
       "2019-01-22 00:00:00-05:00  106.44  108.5100  106.4400  106.455  6646771.0   \n",
       "\n",
       "                                           SPY                             \\\n",
       "                          daily_return    open      high      low   close   \n",
       "time                                                                        \n",
       "2019-01-15 00:00:00-05:00          NaN  257.82  260.7000  257.250  260.21   \n",
       "2019-01-16 00:00:00-05:00     0.000705  260.83  261.9666  260.600  260.94   \n",
       "2019-01-17 00:00:00-05:00    -0.000423  260.01  263.9200  259.960  262.88   \n",
       "2019-01-18 00:00:00-05:00    -0.000987  264.98  266.9800  262.998  266.16   \n",
       "2019-01-22 00:00:00-05:00     0.001223  264.82  265.0600  261.060  261.97   \n",
       "\n",
       "                                                  \n",
       "                             volume daily_return  \n",
       "time                                              \n",
       "2019-01-15 00:00:00-05:00  72130969          NaN  \n",
       "2019-01-16 00:00:00-05:00  59299089     0.002805  \n",
       "2019-01-17 00:00:00-05:00  79893207     0.007435  \n",
       "2019-01-18 00:00:00-05:00  99666883     0.012477  \n",
       "2019-01-22 00:00:00-05:00  88775864    -0.015742  "
      ]
     },
     "execution_count": 54,
     "metadata": {},
     "output_type": "execute_result"
    }
   ],
   "source": [
    "# Configure a Monte Carlo simulation to forecast 10 years cumulative returns\n",
    "# The weights should be split 20% to AGG and 80% to SPY.\n",
    "# Run 500 samples.\n",
    "MC_10yr = MCSimulation(\n",
    "    portfolio_data = pricing_data,\n",
    "    weights = [0.2,0.8],\n",
    "    num_simulation = 500,\n",
    "    num_trading_days = 252*10\n",
    ")\n",
    "\n",
    "# Review the simulation input data\n",
    "# YOUR CODE HERE\n",
    "MC_10yr.portfolio_data.head()"
   ]
  },
  {
   "cell_type": "code",
   "execution_count": 55,
   "metadata": {},
   "outputs": [
    {
     "name": "stdout",
     "output_type": "stream",
     "text": [
      "Running Monte Carlo simulation number 0.\n",
      "Running Monte Carlo simulation number 10.\n",
      "Running Monte Carlo simulation number 20.\n",
      "Running Monte Carlo simulation number 30.\n",
      "Running Monte Carlo simulation number 40.\n",
      "Running Monte Carlo simulation number 50.\n",
      "Running Monte Carlo simulation number 60.\n",
      "Running Monte Carlo simulation number 70.\n",
      "Running Monte Carlo simulation number 80.\n",
      "Running Monte Carlo simulation number 90.\n",
      "Running Monte Carlo simulation number 100.\n"
     ]
    },
    {
     "name": "stderr",
     "output_type": "stream",
     "text": [
      "C:\\Users\\canav\\Documents\\Fintech\\module_5\\Module_5_Challenge\\MCForecastTools.py:117: PerformanceWarning: DataFrame is highly fragmented.  This is usually the result of calling `frame.insert` many times, which has poor performance.  Consider joining all columns at once using pd.concat(axis=1) instead.  To get a de-fragmented frame, use `newframe = frame.copy()`\n",
      "  portfolio_cumulative_returns[n] = (1 + sim_df.fillna(0)).cumprod()\n"
     ]
    },
    {
     "name": "stdout",
     "output_type": "stream",
     "text": [
      "Running Monte Carlo simulation number 110.\n",
      "Running Monte Carlo simulation number 120.\n",
      "Running Monte Carlo simulation number 130.\n",
      "Running Monte Carlo simulation number 140.\n",
      "Running Monte Carlo simulation number 150.\n",
      "Running Monte Carlo simulation number 160.\n",
      "Running Monte Carlo simulation number 170.\n",
      "Running Monte Carlo simulation number 180.\n",
      "Running Monte Carlo simulation number 190.\n",
      "Running Monte Carlo simulation number 200.\n",
      "Running Monte Carlo simulation number 210.\n",
      "Running Monte Carlo simulation number 220.\n",
      "Running Monte Carlo simulation number 230.\n",
      "Running Monte Carlo simulation number 240.\n",
      "Running Monte Carlo simulation number 250.\n",
      "Running Monte Carlo simulation number 260.\n",
      "Running Monte Carlo simulation number 270.\n",
      "Running Monte Carlo simulation number 280.\n",
      "Running Monte Carlo simulation number 290.\n",
      "Running Monte Carlo simulation number 300.\n",
      "Running Monte Carlo simulation number 310.\n",
      "Running Monte Carlo simulation number 320.\n",
      "Running Monte Carlo simulation number 330.\n",
      "Running Monte Carlo simulation number 340.\n",
      "Running Monte Carlo simulation number 350.\n",
      "Running Monte Carlo simulation number 360.\n",
      "Running Monte Carlo simulation number 370.\n",
      "Running Monte Carlo simulation number 380.\n",
      "Running Monte Carlo simulation number 390.\n",
      "Running Monte Carlo simulation number 400.\n",
      "Running Monte Carlo simulation number 410.\n",
      "Running Monte Carlo simulation number 420.\n",
      "Running Monte Carlo simulation number 430.\n",
      "Running Monte Carlo simulation number 440.\n",
      "Running Monte Carlo simulation number 450.\n",
      "Running Monte Carlo simulation number 460.\n",
      "Running Monte Carlo simulation number 470.\n",
      "Running Monte Carlo simulation number 480.\n",
      "Running Monte Carlo simulation number 490.\n"
     ]
    },
    {
     "data": {
      "text/html": [
       "<div>\n",
       "<style scoped>\n",
       "    .dataframe tbody tr th:only-of-type {\n",
       "        vertical-align: middle;\n",
       "    }\n",
       "\n",
       "    .dataframe tbody tr th {\n",
       "        vertical-align: top;\n",
       "    }\n",
       "\n",
       "    .dataframe thead th {\n",
       "        text-align: right;\n",
       "    }\n",
       "</style>\n",
       "<table border=\"1\" class=\"dataframe\">\n",
       "  <thead>\n",
       "    <tr style=\"text-align: right;\">\n",
       "      <th></th>\n",
       "      <th>0</th>\n",
       "      <th>1</th>\n",
       "      <th>2</th>\n",
       "      <th>3</th>\n",
       "      <th>4</th>\n",
       "      <th>5</th>\n",
       "      <th>6</th>\n",
       "      <th>7</th>\n",
       "      <th>8</th>\n",
       "      <th>9</th>\n",
       "      <th>...</th>\n",
       "      <th>490</th>\n",
       "      <th>491</th>\n",
       "      <th>492</th>\n",
       "      <th>493</th>\n",
       "      <th>494</th>\n",
       "      <th>495</th>\n",
       "      <th>496</th>\n",
       "      <th>497</th>\n",
       "      <th>498</th>\n",
       "      <th>499</th>\n",
       "    </tr>\n",
       "  </thead>\n",
       "  <tbody>\n",
       "    <tr>\n",
       "      <th>0</th>\n",
       "      <td>1.000000</td>\n",
       "      <td>1.000000</td>\n",
       "      <td>1.000000</td>\n",
       "      <td>1.000000</td>\n",
       "      <td>1.000000</td>\n",
       "      <td>1.000000</td>\n",
       "      <td>1.000000</td>\n",
       "      <td>1.000000</td>\n",
       "      <td>1.000000</td>\n",
       "      <td>1.000000</td>\n",
       "      <td>...</td>\n",
       "      <td>1.000000</td>\n",
       "      <td>1.000000</td>\n",
       "      <td>1.000000</td>\n",
       "      <td>1.000000</td>\n",
       "      <td>1.000000</td>\n",
       "      <td>1.000000</td>\n",
       "      <td>1.000000</td>\n",
       "      <td>1.000000</td>\n",
       "      <td>1.000000</td>\n",
       "      <td>1.000000</td>\n",
       "    </tr>\n",
       "    <tr>\n",
       "      <th>1</th>\n",
       "      <td>0.997562</td>\n",
       "      <td>1.013298</td>\n",
       "      <td>1.020902</td>\n",
       "      <td>1.006490</td>\n",
       "      <td>0.991288</td>\n",
       "      <td>1.009416</td>\n",
       "      <td>1.010353</td>\n",
       "      <td>1.012872</td>\n",
       "      <td>1.025148</td>\n",
       "      <td>1.003714</td>\n",
       "      <td>...</td>\n",
       "      <td>1.020738</td>\n",
       "      <td>0.992266</td>\n",
       "      <td>1.014925</td>\n",
       "      <td>0.990206</td>\n",
       "      <td>0.989346</td>\n",
       "      <td>1.012618</td>\n",
       "      <td>1.002659</td>\n",
       "      <td>0.995150</td>\n",
       "      <td>1.003087</td>\n",
       "      <td>0.985317</td>\n",
       "    </tr>\n",
       "    <tr>\n",
       "      <th>2</th>\n",
       "      <td>1.000647</td>\n",
       "      <td>1.000972</td>\n",
       "      <td>1.020542</td>\n",
       "      <td>1.000096</td>\n",
       "      <td>0.975928</td>\n",
       "      <td>0.997231</td>\n",
       "      <td>1.018962</td>\n",
       "      <td>1.020748</td>\n",
       "      <td>1.021470</td>\n",
       "      <td>1.014729</td>\n",
       "      <td>...</td>\n",
       "      <td>1.022252</td>\n",
       "      <td>1.004919</td>\n",
       "      <td>1.012877</td>\n",
       "      <td>0.990062</td>\n",
       "      <td>0.988190</td>\n",
       "      <td>0.992276</td>\n",
       "      <td>0.985540</td>\n",
       "      <td>0.995947</td>\n",
       "      <td>1.005005</td>\n",
       "      <td>0.987141</td>\n",
       "    </tr>\n",
       "    <tr>\n",
       "      <th>3</th>\n",
       "      <td>0.994095</td>\n",
       "      <td>0.992302</td>\n",
       "      <td>1.032230</td>\n",
       "      <td>1.013028</td>\n",
       "      <td>0.960856</td>\n",
       "      <td>1.014567</td>\n",
       "      <td>1.018752</td>\n",
       "      <td>1.022323</td>\n",
       "      <td>1.049180</td>\n",
       "      <td>1.057935</td>\n",
       "      <td>...</td>\n",
       "      <td>1.001788</td>\n",
       "      <td>0.997507</td>\n",
       "      <td>1.013909</td>\n",
       "      <td>0.986242</td>\n",
       "      <td>1.020722</td>\n",
       "      <td>1.001166</td>\n",
       "      <td>0.989617</td>\n",
       "      <td>1.013186</td>\n",
       "      <td>1.001905</td>\n",
       "      <td>0.978539</td>\n",
       "    </tr>\n",
       "    <tr>\n",
       "      <th>4</th>\n",
       "      <td>0.981361</td>\n",
       "      <td>0.977248</td>\n",
       "      <td>1.054554</td>\n",
       "      <td>1.017239</td>\n",
       "      <td>0.975586</td>\n",
       "      <td>1.019325</td>\n",
       "      <td>1.009370</td>\n",
       "      <td>1.028241</td>\n",
       "      <td>1.022985</td>\n",
       "      <td>1.052039</td>\n",
       "      <td>...</td>\n",
       "      <td>1.010669</td>\n",
       "      <td>0.997129</td>\n",
       "      <td>1.008748</td>\n",
       "      <td>0.982014</td>\n",
       "      <td>1.023954</td>\n",
       "      <td>1.007710</td>\n",
       "      <td>0.981742</td>\n",
       "      <td>1.005994</td>\n",
       "      <td>0.998423</td>\n",
       "      <td>0.998904</td>\n",
       "    </tr>\n",
       "    <tr>\n",
       "      <th>...</th>\n",
       "      <td>...</td>\n",
       "      <td>...</td>\n",
       "      <td>...</td>\n",
       "      <td>...</td>\n",
       "      <td>...</td>\n",
       "      <td>...</td>\n",
       "      <td>...</td>\n",
       "      <td>...</td>\n",
       "      <td>...</td>\n",
       "      <td>...</td>\n",
       "      <td>...</td>\n",
       "      <td>...</td>\n",
       "      <td>...</td>\n",
       "      <td>...</td>\n",
       "      <td>...</td>\n",
       "      <td>...</td>\n",
       "      <td>...</td>\n",
       "      <td>...</td>\n",
       "      <td>...</td>\n",
       "      <td>...</td>\n",
       "      <td>...</td>\n",
       "    </tr>\n",
       "    <tr>\n",
       "      <th>2516</th>\n",
       "      <td>4.635723</td>\n",
       "      <td>4.395190</td>\n",
       "      <td>4.837585</td>\n",
       "      <td>4.461980</td>\n",
       "      <td>1.713574</td>\n",
       "      <td>5.434385</td>\n",
       "      <td>7.337735</td>\n",
       "      <td>5.049735</td>\n",
       "      <td>3.910341</td>\n",
       "      <td>3.587098</td>\n",
       "      <td>...</td>\n",
       "      <td>3.899152</td>\n",
       "      <td>3.609462</td>\n",
       "      <td>2.018068</td>\n",
       "      <td>9.990083</td>\n",
       "      <td>1.388273</td>\n",
       "      <td>5.454340</td>\n",
       "      <td>3.687457</td>\n",
       "      <td>6.218306</td>\n",
       "      <td>5.763121</td>\n",
       "      <td>13.400309</td>\n",
       "    </tr>\n",
       "    <tr>\n",
       "      <th>2517</th>\n",
       "      <td>4.540305</td>\n",
       "      <td>4.341421</td>\n",
       "      <td>4.715936</td>\n",
       "      <td>4.409108</td>\n",
       "      <td>1.714706</td>\n",
       "      <td>5.458397</td>\n",
       "      <td>7.315120</td>\n",
       "      <td>5.037641</td>\n",
       "      <td>3.884383</td>\n",
       "      <td>3.569170</td>\n",
       "      <td>...</td>\n",
       "      <td>3.814467</td>\n",
       "      <td>3.653080</td>\n",
       "      <td>2.023937</td>\n",
       "      <td>9.967060</td>\n",
       "      <td>1.390290</td>\n",
       "      <td>5.455818</td>\n",
       "      <td>3.738636</td>\n",
       "      <td>6.165673</td>\n",
       "      <td>5.875947</td>\n",
       "      <td>13.591766</td>\n",
       "    </tr>\n",
       "    <tr>\n",
       "      <th>2518</th>\n",
       "      <td>4.467554</td>\n",
       "      <td>4.363816</td>\n",
       "      <td>4.658804</td>\n",
       "      <td>4.333544</td>\n",
       "      <td>1.715591</td>\n",
       "      <td>5.555994</td>\n",
       "      <td>7.412846</td>\n",
       "      <td>5.001866</td>\n",
       "      <td>3.914141</td>\n",
       "      <td>3.591425</td>\n",
       "      <td>...</td>\n",
       "      <td>3.819685</td>\n",
       "      <td>3.706698</td>\n",
       "      <td>2.020837</td>\n",
       "      <td>10.020211</td>\n",
       "      <td>1.382012</td>\n",
       "      <td>5.490252</td>\n",
       "      <td>3.726607</td>\n",
       "      <td>6.296454</td>\n",
       "      <td>5.868426</td>\n",
       "      <td>13.574467</td>\n",
       "    </tr>\n",
       "    <tr>\n",
       "      <th>2519</th>\n",
       "      <td>4.443521</td>\n",
       "      <td>4.333153</td>\n",
       "      <td>4.646460</td>\n",
       "      <td>4.317571</td>\n",
       "      <td>1.710942</td>\n",
       "      <td>5.715804</td>\n",
       "      <td>7.548642</td>\n",
       "      <td>4.986559</td>\n",
       "      <td>3.947210</td>\n",
       "      <td>3.515257</td>\n",
       "      <td>...</td>\n",
       "      <td>3.773321</td>\n",
       "      <td>3.695597</td>\n",
       "      <td>2.066781</td>\n",
       "      <td>9.883474</td>\n",
       "      <td>1.391529</td>\n",
       "      <td>5.576202</td>\n",
       "      <td>3.741951</td>\n",
       "      <td>6.261322</td>\n",
       "      <td>5.837509</td>\n",
       "      <td>13.655460</td>\n",
       "    </tr>\n",
       "    <tr>\n",
       "      <th>2520</th>\n",
       "      <td>4.436391</td>\n",
       "      <td>4.388949</td>\n",
       "      <td>4.621170</td>\n",
       "      <td>4.271556</td>\n",
       "      <td>1.671662</td>\n",
       "      <td>5.709079</td>\n",
       "      <td>7.564466</td>\n",
       "      <td>4.914385</td>\n",
       "      <td>3.990896</td>\n",
       "      <td>3.445999</td>\n",
       "      <td>...</td>\n",
       "      <td>3.854664</td>\n",
       "      <td>3.624486</td>\n",
       "      <td>2.051252</td>\n",
       "      <td>9.931933</td>\n",
       "      <td>1.403755</td>\n",
       "      <td>5.599796</td>\n",
       "      <td>3.723863</td>\n",
       "      <td>6.207219</td>\n",
       "      <td>5.794597</td>\n",
       "      <td>13.748214</td>\n",
       "    </tr>\n",
       "  </tbody>\n",
       "</table>\n",
       "<p>2521 rows × 500 columns</p>\n",
       "</div>"
      ],
      "text/plain": [
       "           0         1         2         3         4         5         6    \\\n",
       "0     1.000000  1.000000  1.000000  1.000000  1.000000  1.000000  1.000000   \n",
       "1     0.997562  1.013298  1.020902  1.006490  0.991288  1.009416  1.010353   \n",
       "2     1.000647  1.000972  1.020542  1.000096  0.975928  0.997231  1.018962   \n",
       "3     0.994095  0.992302  1.032230  1.013028  0.960856  1.014567  1.018752   \n",
       "4     0.981361  0.977248  1.054554  1.017239  0.975586  1.019325  1.009370   \n",
       "...        ...       ...       ...       ...       ...       ...       ...   \n",
       "2516  4.635723  4.395190  4.837585  4.461980  1.713574  5.434385  7.337735   \n",
       "2517  4.540305  4.341421  4.715936  4.409108  1.714706  5.458397  7.315120   \n",
       "2518  4.467554  4.363816  4.658804  4.333544  1.715591  5.555994  7.412846   \n",
       "2519  4.443521  4.333153  4.646460  4.317571  1.710942  5.715804  7.548642   \n",
       "2520  4.436391  4.388949  4.621170  4.271556  1.671662  5.709079  7.564466   \n",
       "\n",
       "           7         8         9    ...       490       491       492  \\\n",
       "0     1.000000  1.000000  1.000000  ...  1.000000  1.000000  1.000000   \n",
       "1     1.012872  1.025148  1.003714  ...  1.020738  0.992266  1.014925   \n",
       "2     1.020748  1.021470  1.014729  ...  1.022252  1.004919  1.012877   \n",
       "3     1.022323  1.049180  1.057935  ...  1.001788  0.997507  1.013909   \n",
       "4     1.028241  1.022985  1.052039  ...  1.010669  0.997129  1.008748   \n",
       "...        ...       ...       ...  ...       ...       ...       ...   \n",
       "2516  5.049735  3.910341  3.587098  ...  3.899152  3.609462  2.018068   \n",
       "2517  5.037641  3.884383  3.569170  ...  3.814467  3.653080  2.023937   \n",
       "2518  5.001866  3.914141  3.591425  ...  3.819685  3.706698  2.020837   \n",
       "2519  4.986559  3.947210  3.515257  ...  3.773321  3.695597  2.066781   \n",
       "2520  4.914385  3.990896  3.445999  ...  3.854664  3.624486  2.051252   \n",
       "\n",
       "            493       494       495       496       497       498        499  \n",
       "0      1.000000  1.000000  1.000000  1.000000  1.000000  1.000000   1.000000  \n",
       "1      0.990206  0.989346  1.012618  1.002659  0.995150  1.003087   0.985317  \n",
       "2      0.990062  0.988190  0.992276  0.985540  0.995947  1.005005   0.987141  \n",
       "3      0.986242  1.020722  1.001166  0.989617  1.013186  1.001905   0.978539  \n",
       "4      0.982014  1.023954  1.007710  0.981742  1.005994  0.998423   0.998904  \n",
       "...         ...       ...       ...       ...       ...       ...        ...  \n",
       "2516   9.990083  1.388273  5.454340  3.687457  6.218306  5.763121  13.400309  \n",
       "2517   9.967060  1.390290  5.455818  3.738636  6.165673  5.875947  13.591766  \n",
       "2518  10.020211  1.382012  5.490252  3.726607  6.296454  5.868426  13.574467  \n",
       "2519   9.883474  1.391529  5.576202  3.741951  6.261322  5.837509  13.655460  \n",
       "2520   9.931933  1.403755  5.599796  3.723863  6.207219  5.794597  13.748214  \n",
       "\n",
       "[2521 rows x 500 columns]"
      ]
     },
     "execution_count": 55,
     "metadata": {},
     "output_type": "execute_result"
    }
   ],
   "source": [
    "# Run the Monte Carlo simulation to forecast 10 years cumulative returns\n",
    "# YOUR CODE HERE\n",
    "MC_10yr.calc_cumulative_return()\n"
   ]
  },
  {
   "cell_type": "code",
   "execution_count": 60,
   "metadata": {},
   "outputs": [
    {
     "data": {
      "image/png": "[encoded data removed]",
      "text/plain": [
       "<Figure size 432x288 with 1 Axes>"
      ]
     },
     "metadata": {
      "needs_background": "light"
     },
     "output_type": "display_data"
    }
   ],
   "source": [
    "# Visualize the 10-year Monte Carlo simulation by creating an\n",
    "# overlay line plot\n",
    "# YOUR CODE HERE\n",
    "tenyr_sim_plot = MC_10yr.plot_simulation()"
   ]
  },
  {
   "cell_type": "code",
   "execution_count": 61,
   "metadata": {},
   "outputs": [
    {
     "data": {
      "image/png": "[encoded data removed]",
      "text/plain": [
       "<Figure size 432x288 with 1 Axes>"
      ]
     },
     "metadata": {
      "needs_background": "light"
     },
     "output_type": "display_data"
    }
   ],
   "source": [
    "# Visualize the probability distribution of the 10-year Monte Carlo simulation \n",
    "# by plotting a histogram\n",
    "# YOUR CODE HERE\n",
    "tenyr_dist_plot = MC_10yr.plot_distribution()"
   ]
  },
  {
   "cell_type": "code",
   "execution_count": 63,
   "metadata": {},
   "outputs": [
    {
     "data": {
      "text/plain": [
       "count           500.000000\n",
       "mean              5.956488\n",
       "std               3.720701\n",
       "min               1.047798\n",
       "25%               3.514071\n",
       "50%               4.945926\n",
       "75%               7.305807\n",
       "max              28.149528\n",
       "95% CI Lower      1.724080\n",
       "95% CI Upper     15.931753\n",
       "Name: 2520, dtype: float64"
      ]
     },
     "execution_count": 63,
     "metadata": {},
     "output_type": "execute_result"
    }
   ],
   "source": [
    "# Generate summary statistics from the 10-year Monte Carlo simulation results\n",
    "# Save the results as a variable\n",
    "MC_10yr_summary = MC_10yr.summarize_cumulative_return()\n",
    "\n",
    "\n",
    "# Review the 10-year Monte Carlo summary statistics\n",
    "MC_10yr_summary"
   ]
  },
  {
   "cell_type": "markdown",
   "metadata": {},
   "source": [
    "### Answer the following questions:"
   ]
  },
  {
   "cell_type": "markdown",
   "metadata": {},
   "source": [
    "#### Question: Using the current value of only the stock and bond portion of the member's portfolio and the summary statistics that you generated from the new Monte Carlo simulation, what are the lower and upper bounds for the expected value of the portfolio (with the new weights) with a 95% confidence interval?"
   ]
  },
  {
   "cell_type": "code",
   "execution_count": 64,
   "metadata": {},
   "outputs": [
    {
     "data": {
      "text/plain": [
       "60689.5"
      ]
     },
     "execution_count": 64,
     "metadata": {},
     "output_type": "execute_result"
    }
   ],
   "source": [
    "# Print the current balance of the stock and bond portion of the members portfolio\n",
    "# YOUR CODE HERE\n",
    "total_stocks_bonds"
   ]
  },
  {
   "cell_type": "code",
   "execution_count": 68,
   "metadata": {},
   "outputs": [
    {
     "name": "stdout",
     "output_type": "stream",
     "text": [
      "The lower 95% interval is 104633.53 and the upper limit is 966890.11.\n"
     ]
    }
   ],
   "source": [
    "# Use the lower and upper `95%` confidence intervals to calculate the range of the possible outcomes for the current stock/bond portfolio\n",
    "ci_lower_ten_cumulative_return = total_stocks_bonds * MC_10yr_summary[8]\n",
    "ci_upper_ten_cumulative_return = total_stocks_bonds * MC_10yr_summary[9]\n",
    "\n",
    "# Print the result of your calculations\n",
    "print(f\"The lower 95% interval is {round(ci_lower_ten_cumulative_return,2)} and the upper limit is {round(ci_upper_ten_cumulative_return,2)}.\")\n"
   ]
  },
  {
   "cell_type": "markdown",
   "metadata": {},
   "source": [
    "#### Question: Will weighting the portfolio more heavily to stocks allow the credit union members to retire after only 10 years?"
   ]
  },
  {
   "cell_type": "raw",
   "metadata": {},
   "source": [
    "**Answer** It is unlikely that a person currently earning $12,000 a month will comfortably retire after 10 years simply by shifting their stock/bond portfolio into more stocks.  Although they will likely do better in such a portfolio, the upper confidence interval still only provides about $1,000,000 in assets.  With an early retirement this amount of money would have to last much longer, based on teh phrasing of the question and exercise, it could be implied 20 years longer.  a current monthly income would require something in the order of $8,000/month present value upon retirement, which would equate to nearly $100,000 in annual draw, which is a 10% draw, even assuming $40,000 in SS, that's still a draw of 6% and does not acocunt for inflation.  A severe market downturn, or sustained inflation would seriously jeopardize the client runnign out of assets. "
   ]
  },
  {
   "cell_type": "code",
   "execution_count": null,
   "metadata": {},
   "outputs": [],
   "source": []
  }
 ],
 "metadata": {
  "kernelspec": {
   "display_name": "dev",
   "language": "python",
   "name": "dev"
  },
  "language_info": {
   "codemirror_mode": {
    "name": "ipython",
    "version": 3
   },
   "file_extension": ".py",
   "mimetype": "text/x-python",
   "name": "python",
   "nbconvert_exporter": "python",
   "pygments_lexer": "ipython3",
   "version": "3.7.11"
  }
 },
 "nbformat": 4,
 "nbformat_minor": 4
}
